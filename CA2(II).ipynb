{
 "cells": [
  {
   "cell_type": "code",
   "execution_count": 27,
   "metadata": {},
   "outputs": [],
   "source": [
    "# Importing all the necessary libraries\n",
    "import os\n",
    "import numpy as np\n",
    "import pandas as pd"
   ]
  },
  {
   "cell_type": "code",
   "execution_count": 28,
   "metadata": {},
   "outputs": [],
   "source": [
    "# Loading the dataset and converting it to dataframe.\n",
    "# The original dataset consistes of around 800,000 records, but we are taking 200,000 for our processing.\n",
    "df = pd.read_csv(\"../AI2/quora_questions.csv\", nrows=200000)"
   ]
  },
  {
   "cell_type": "code",
   "execution_count": 29,
   "metadata": {},
   "outputs": [
    {
     "data": {
      "text/html": [
       "<div>\n",
       "<style scoped>\n",
       "    .dataframe tbody tr th:only-of-type {\n",
       "        vertical-align: middle;\n",
       "    }\n",
       "\n",
       "    .dataframe tbody tr th {\n",
       "        vertical-align: top;\n",
       "    }\n",
       "\n",
       "    .dataframe thead th {\n",
       "        text-align: right;\n",
       "    }\n",
       "</style>\n",
       "<table border=\"1\" class=\"dataframe\">\n",
       "  <thead>\n",
       "    <tr style=\"text-align: right;\">\n",
       "      <th></th>\n",
       "      <th>question</th>\n",
       "    </tr>\n",
       "  </thead>\n",
       "  <tbody>\n",
       "    <tr>\n",
       "      <th>0</th>\n",
       "      <td>What is the step by step guide to invest in sh...</td>\n",
       "    </tr>\n",
       "    <tr>\n",
       "      <th>1</th>\n",
       "      <td>What is the story of Kohinoor (Koh-i-Noor) Dia...</td>\n",
       "    </tr>\n",
       "    <tr>\n",
       "      <th>2</th>\n",
       "      <td>How can I increase the speed of my internet co...</td>\n",
       "    </tr>\n",
       "    <tr>\n",
       "      <th>3</th>\n",
       "      <td>Why am I mentally very lonely? How can I solve...</td>\n",
       "    </tr>\n",
       "    <tr>\n",
       "      <th>4</th>\n",
       "      <td>Which one dissolve in water quikly sugar, salt...</td>\n",
       "    </tr>\n",
       "  </tbody>\n",
       "</table>\n",
       "</div>"
      ],
      "text/plain": [
       "                                            question\n",
       "0  What is the step by step guide to invest in sh...\n",
       "1  What is the story of Kohinoor (Koh-i-Noor) Dia...\n",
       "2  How can I increase the speed of my internet co...\n",
       "3  Why am I mentally very lonely? How can I solve...\n",
       "4  Which one dissolve in water quikly sugar, salt..."
      ]
     },
     "execution_count": 29,
     "metadata": {},
     "output_type": "execute_result"
    }
   ],
   "source": [
    "df.head()"
   ]
  },
  {
   "cell_type": "code",
   "execution_count": 40,
   "metadata": {},
   "outputs": [],
   "source": [
    "from sklearn.feature_extraction.text import TfidfVectorizer"
   ]
  },
  {
   "cell_type": "code",
   "execution_count": 41,
   "metadata": {},
   "outputs": [],
   "source": [
    "tfidf = TfidfVectorizer(max_df=0.30, min_df=10, stop_words=\"english\")"
   ]
  },
  {
   "cell_type": "code",
   "execution_count": 42,
   "metadata": {},
   "outputs": [],
   "source": [
    "doc_term_matrix_tfidf = tfidf.fit_transform(df[\"question\"])"
   ]
  },
  {
   "cell_type": "code",
   "execution_count": 43,
   "metadata": {},
   "outputs": [
    {
     "data": {
      "text/plain": [
       "<200000x9790 sparse matrix of type '<class 'numpy.float64'>'\n",
       "\twith 913044 stored elements in Compressed Sparse Row format>"
      ]
     },
     "execution_count": 43,
     "metadata": {},
     "output_type": "execute_result"
    }
   ],
   "source": [
    "doc_term_matrix_tfidf"
   ]
  },
  {
   "cell_type": "code",
   "execution_count": 44,
   "metadata": {},
   "outputs": [],
   "source": [
    "from sklearn.decomposition import NMF"
   ]
  },
  {
   "cell_type": "code",
   "execution_count": 45,
   "metadata": {},
   "outputs": [],
   "source": [
    "nmf_model = NMF(n_components=20, random_state=1)"
   ]
  },
  {
   "cell_type": "code",
   "execution_count": 46,
   "metadata": {},
   "outputs": [
    {
     "data": {
      "text/plain": [
       "NMF(alpha=0.0, beta_loss='frobenius', init=None, l1_ratio=0.0, max_iter=200,\n",
       "    n_components=20, random_state=1, shuffle=False, solver='cd', tol=0.0001,\n",
       "    verbose=0)"
      ]
     },
     "execution_count": 46,
     "metadata": {},
     "output_type": "execute_result"
    }
   ],
   "source": [
    "nmf_model.fit(doc_term_matrix_tfidf)"
   ]
  },
  {
   "cell_type": "code",
   "execution_count": 47,
   "metadata": {},
   "outputs": [
    {
     "data": {
      "text/plain": [
       "'aliexpress'"
      ]
     },
     "execution_count": 47,
     "metadata": {},
     "output_type": "execute_result"
    }
   ],
   "source": [
    "tfidf.get_feature_names()[500]"
   ]
  },
  {
   "cell_type": "code",
   "execution_count": 48,
   "metadata": {},
   "outputs": [
    {
     "name": "stdout",
     "output_type": "stream",
     "text": [
      "Top 50 words for topic 0 are: \n",
      "['apps']['preparation']['seo']['college']['ve']['games']['service']['gift']['software']['beginners']['download']['bollywood']['digital']['company']['sites']['institute']['marketing']['smartphone']['course']['delhi']['watch']['coaching']['songs']['android']['world']['learning']['app']['engineering']['mobile']['friend']['hollywood']['free']['read']['online']['thing']['site']['website']['place']['visit']['places']['phone']['buy']['ways']['laptop']['movie']['2016']['books']['book']['movies']['best']\n",
      "\n",
      "Top 50 words for topic 1 are: \n",
      "['support']['increase']['pay']['means']['energy']['man']['god']['new']['exactly']['works']['symbol']['dog']['girl']['average']['stand']['facebook']['water']['woman']['phrase']['com']['guy']['look']['use']['matter']['cause']['dream']['person']['love']['help']['say']['differ']['word']['need']['affect']['come']['universities']['says']['majors']['grads']['recruit']['looking']['really']['sex']['exist']['compare']['cost']['long']['feel']['mean']['does']\n",
      "\n",
      "Top 50 words for topic 2 are: \n",
      "['asking']['blog']['earn']['message']['facebook']['better']['upvoted']['user']['come']['upvotes']['just']['followers']['views']['mark']['anonymous']['stupid']['change']['block']['using']['write']['need']['answering']['picture']['instead']['topics']['account']['profile']['googling']['interview']['writer']['users']['search']['marked']['follow']['add']['use']['answered']['post']['needing']['easily']['improvement']['delete']['asked']['google']['answer']['answers']['ask']['question']['questions']['quora']\n",
      "\n",
      "Top 50 words for topic 3 are: \n",
      "['android']['uber']['extra']['save']['million']['video']['college']['happy']['000']['invest']['dollars']['instagram']['working']['transfer']['really']['student']['better']['bank']['account']['year']['realistically']['fast']['videos']['month']['blog']['18']['business']['facebook']['start']['easily']['easiest']['app']['using']['job']['investment']['website']['making']['friends']['internet']['black']['free']['easy']['home']['com']['youtube']['ways']['earn']['online']['make']['money']\n",
      "\n",
      "Top 50 words for topic 4 are: \n",
      "['ve']['believe']['point']['lessons']['actually']['incident']['word']['enjoy']['unfair']['learned']['proof']['happened']['lesson']['alien']['movie']['worst']['person']['sex']['successful']['regret']['better']['daily']['biggest']['living']['human']['things']['differ']['think']['positions']['happy']['embarrassing']['departments']['planets']['decision']['examples']['balance']['earth']['death']['day']['live']['want']['change']['changed']['moment']['real']['thing']['important']['meaning']['purpose']['life']\n",
      "\n",
      "Top 50 words for topic 5 are: \n",
      "['app']['machine']['social']['bank']['law']['culture']['application']['water']['vs']['languages']['iphone']['design']['research']['company']['intelligence']['technology']['engine']['google']['programming']['sentences']['windows']['business']['indian']['linux']['development']['tell']['main']['android']['language']['learning']['real']['current']['mass']['non']['python']['basic']['infatuation']['chinese']['scripting']['web']['java']['examples']['better']['software']['data']['computer']['science']['engineering']['love']['difference']\n",
      "\n",
      "Top 50 words for topic 6 are: \n",
      "['education']['declare']['developed']['think']['win']['policy']['countries']['indians']['attack']['cost']['marketing']['daniel']['ek']['need']['companies']['city']['places']['colleges']['caste']['medals']['legal']['usa']['place']['visit']['surgical']['digital']['state']['start']['salary']['future']['demonetization']['president']['happen']['company']['reservation']['prime']['scope']['engineering']['buy']['minister']['business']['available']['country']['job']['china']['olympics']['spotify']['war']['pakistan']['india']\n",
      "\n",
      "Top 50 words for topic 7 are: \n",
      "['friends']['pornstar']['big']['talk']['college']['student']['make']['prison']['music']['penis']['really']['boyfriend']['facebook']['relationship']['child']['friend']['study']['university']['having']['date']['woman']['china']['man']['websites']['school']['tell']['taste']['living']['corporate']['working']['com']['website']['different']['indian']['companies']['world']['don']['guys']['guy']['men']['person']['culture']['women']['girls']['live']['girl']['sex']['look']['feel']['like']\n",
      "\n",
      "Top 50 words for topic 8 are: \n",
      "['old']['website']['school']['study']['center']['topics']['gifts']['inpatient']['drug']['college']['county']['rehab']['alcohol']['university']['president']['career']['computer']['science']['learning']['start']['year']['software']['ideas']['differ']['idea']['balance']['job']['departments']['positions']['business']['examples']['health']['near']['score']['book']['makes']['songs']['california']['movies']['ca']['solar']['installation']['panel']['provider']['read']['engineering']['ways']['bad']['books']['good']\n",
      "\n",
      "Top 50 words for topic 9 are: \n",
      "['culture']['number']['working']['stock']['country']['iphone']['mobile']['account']['app']['card']['mechanical']['facebook']['amazon']['bank']['data']['used']['android']['jobs']['making']['hours']['tips']['visa']['engineering']['experience']['interview']['process']['better']['companies']['want']['engineer']['software']['relationships']['phone']['hard']['company']['home']['employees']['does']['differ']['departments']['positions']['relationship']['google']['really']['balance']['distance']['use']['long']['job']['work']\n",
      "\n",
      "Top 50 words for topic 10 are: \n",
      "['actually']['policy']['american']['chances']['effect']['campaign']['wall']['choice']['elect']['hate']['americans']['candidate']['run']['voting']['great']['make']['biased']['supporters']['international']['obama']['support']['going']['really']['debate']['winning']['racist']['states']['united']['affect']['students']['elected']['won']['elections']['wins']['america']['usa']['happen']['presidency']['2016']['presidential']['think']['vote']['election']['better']['win']['hillary']['president']['clinton']['donald']['trump']\n",
      "\n",
      "Top 50 words for topic 11 are: \n",
      "['scripting']['business']['long']['scratch']['faster']['digital']['use']['hack']['easy']['need']['french']['german']['resources']['used']['chinese']['piano']['books']['game']['japanese']['marketing']['code']['math']['javascript']['read']['speak']['new']['data']['quickly']['development']['guitar']['play']['english']['web']['beginner']['online']['machine']['hacking']['book']['computer']['beginners']['coding']['want']['python']['languages']['java']['learning']['start']['language']['programming']['learn']\n",
      "\n",
      "Top 50 words for topic 12 are: \n",
      "['just']['password']['need']['tools']['pregnant']['gadgets']['cheating']['interesting']['york']['facts']['blocked']['girlfriend']['important']['facebook']['true']['recruit']['universities']['grads']['number']['majors']['friend']['looking']['crush']['whatsapp']['account']['loves']['exist']['resolution']['instagram']['old']['guy']['resolutions']['person']['really']['fall']['blowing']['want']['likes']['mind']['2017']['year']['girl']['don']['employees']['going']['day']['love']['things']['new']['know']\n",
      "\n",
      "Top 50 words for topic 13 are: \n",
      "['curbing']['bringing']['problem']['changing']['rbi']['pros']['market']['cons']['introducing']['control']['affected']['demonetize']['banned']['narendra']['effects']['stop']['pm']['estate']['demonetization']['real']['effect']['old']['curb']['inr']['views']['impact']['scrapping']['note']['affect']['corruption']['new']['decision']['rupees']['help']['modi']['2000']['money']['currency']['government']['economy']['think']['ban']['banning']['black']['indian']['rupee']['rs']['1000']['notes']['500']\n",
      "\n",
      "Top 50 words for topic 14 are: \n",
      "['series']['memory']['presence']['dubbed']['british']['power']['used']['prepare']['chinese']['net']['reading']['ugc']['increase']['translation']['books']['practice']['use']['sentence']['grammar']['speaker']['say']['songs']['watch']['translate']['aspects']['literature']['specifically']['subtitles']['native']['ability']['enhance']['fluency']['words']['vocabulary']['better']['fluent']['word']['skill']['spoken']['ways']['language']['fluently']['communication']['speak']['pronunciation']['speaking']['writing']['skills']['improve']['english']\n",
      "\n",
      "Top 50 words for topic 15 are: \n"
     ]
    },
    {
     "name": "stdout",
     "output_type": "stream",
     "text": [
      "['muscle']['face']['increase']['food']['height']['advice']['day']['25']['really']['water']['possible']['20']['want']['effectively']['30']['faster']['old']['year']['green']['slowly']['eat']['week']['eating']['tea']['days']['weeks']['months']['body']['kg']['plan']['belly']['loose']['losing']['safely']['doing']['diet']['reduce']['healthy']['pounds']['help']['month']['exercise']['quickly']['loss']['fat']['fast']['ways']['gain']['lose']['weight']\n",
      "\n",
      "Top 50 words for topic 16 are: \n",
      "['yes']['greatest']['thing']['universe']['free']['visit']['short']['10']['period']['backward']['women']['past']['fall']['woman']['exist']['light']['faster']['speed']['right']['years']['notice']['unexpected']['movie']['space']['gifts']['invited']['foreign']['visitor']['bring']['jobs']['manage']['real']['visitors']['change']['having']['long']['spend']['machine']['stop']['job']['feel']['movies']['favorite']['home']['person']['love']['sex']['possible']['travel']['time']\n",
      "\n",
      "Top 50 words for topic 17 are: \n",
      "['successful']['facebook']['country']['racist']['obsessed']['indians']['countries']['talk']['search']['japanese']['common']['allowed']['caring']['suicide']['tools']['deal']['gadgets']['rich']['googling']['intelligent']['important']['sex']['just']['bad']['god']['black']['exist']['instead']['instagram']['want']['earth']['white']['world']['say']['stop']['chinese']['blowing']['care']['mind']['easily']['flat']['google']['use']['questions']['believe']['hate']['ask']['don']['think']['people']\n",
      "\n",
      "Top 50 words for topic 18 are: \n",
      "['contrast']['worst']['significance']['humans']['coming']['ii']['countries']['learning']['today']['china']['want']['word']['fail']['originate']['presidential']['meet']['stop']['moon']['place']['year']['use']['happened']['hitler']['russia']['kill']['bang']['exist']['long']['god']['big']['pakistan']['election']['country']['end']['iii']['business']['change']['movie']['really']['happen']['2016']['battle']['come']['die']['thing']['win']['start']['war']['world']['did']\n",
      "\n",
      "Top 50 words for topic 19 are: \n",
      "['number']['followers']['delete']['remove']['avoid']['meth']['fat']['deleted']['using']['teach']['password']['tell']['exam']['email']['painful']['whatsapp']['learn']['start']['gain']['invest']['cheapest']['anger']['effective']['girl']['milky']['traffic']['healthy']['height']['gmail']['kill']['stop']['easy']['control']['use']['reduce']['hack']['quickest']['facebook']['prepare']['rid']['instagram']['increase']['painless']['account']['best']['fastest']['commit']['suicide']['easiest']['way']\n",
      "\n"
     ]
    }
   ],
   "source": [
    "word_list = []\n",
    "probability_list = []\n",
    "\n",
    "top_number = 50\n",
    "count = 0\n",
    "\n",
    "for prob_num in nmf_model.components_:\n",
    "    question = f\"Top 50 words for topic {count} are: \"\n",
    "    print(question)\n",
    "    for number in prob_num.argsort()[-top_number:]:\n",
    "        print([tfidf.get_feature_names()[number]], end=\"\")\n",
    "        word_list.append([tfidf.get_feature_names()[number]])\n",
    "        probability_list.append(number)\n",
    "    \n",
    "    print(\"\\n\")\n",
    "    count += 1\n",
    "        "
   ]
  },
  {
   "cell_type": "code",
   "execution_count": 49,
   "metadata": {},
   "outputs": [],
   "source": [
    "question_topics = nmf_model.transform(doc_term_matrix_tfidf)"
   ]
  },
  {
   "cell_type": "code",
   "execution_count": 50,
   "metadata": {},
   "outputs": [
    {
     "data": {
      "text/plain": [
       "array([[3.05765024e-04, 1.96703808e-07, 1.09313703e-05, ...,\n",
       "        0.00000000e+00, 0.00000000e+00, 8.16804805e-04],\n",
       "       [3.35233642e-04, 3.16154574e-04, 0.00000000e+00, ...,\n",
       "        0.00000000e+00, 2.99618500e-04, 1.67678068e-04],\n",
       "       [2.35799586e-04, 6.25435177e-04, 1.35696397e-03, ...,\n",
       "        8.93308458e-04, 4.27922633e-04, 2.99266804e-03],\n",
       "       ...,\n",
       "       [0.00000000e+00, 1.05394361e-03, 2.05308783e-03, ...,\n",
       "        3.67063863e-05, 6.36355609e-03, 5.06219398e-04],\n",
       "       [4.94091563e-03, 2.51074138e-04, 0.00000000e+00, ...,\n",
       "        0.00000000e+00, 3.48972349e-03, 0.00000000e+00],\n",
       "       [2.30320256e-03, 6.62936439e-04, 8.05777675e-07, ...,\n",
       "        7.28488884e-06, 3.40439757e-03, 0.00000000e+00]])"
      ]
     },
     "execution_count": 50,
     "metadata": {},
     "output_type": "execute_result"
    }
   ],
   "source": [
    "question_topics"
   ]
  },
  {
   "cell_type": "code",
   "execution_count": 51,
   "metadata": {},
   "outputs": [
    {
     "data": {
      "text/plain": [
       "(200000, 20)"
      ]
     },
     "execution_count": 51,
     "metadata": {},
     "output_type": "execute_result"
    }
   ],
   "source": [
    "question_topics.shape"
   ]
  },
  {
   "cell_type": "code",
   "execution_count": 53,
   "metadata": {},
   "outputs": [
    {
     "data": {
      "text/plain": [
       "array([3.35233642e-04, 3.16154574e-04, 0.00000000e+00, 0.00000000e+00,\n",
       "       2.37279636e-04, 1.52183052e-04, 1.50760062e-04, 0.00000000e+00,\n",
       "       3.01256009e-04, 0.00000000e+00, 0.00000000e+00, 0.00000000e+00,\n",
       "       6.99983586e-04, 1.40437556e-05, 3.28912020e-04, 0.00000000e+00,\n",
       "       1.49484922e-04, 0.00000000e+00, 2.99618500e-04, 1.67678068e-04])"
      ]
     },
     "execution_count": 53,
     "metadata": {},
     "output_type": "execute_result"
    }
   ],
   "source": [
    "question_topics[1]"
   ]
  },
  {
   "cell_type": "code",
   "execution_count": 54,
   "metadata": {},
   "outputs": [
    {
     "data": {
      "text/plain": [
       "array([0., 0., 0., 0., 0., 0., 0., 0., 0., 0., 0., 0., 0., 0., 0., 0., 0.,\n",
       "       0., 0., 0.])"
      ]
     },
     "execution_count": 54,
     "metadata": {},
     "output_type": "execute_result"
    }
   ],
   "source": [
    "question_topics[2].round(2)"
   ]
  },
  {
   "cell_type": "code",
   "execution_count": 55,
   "metadata": {},
   "outputs": [
    {
     "data": {
      "text/plain": [
       "13"
      ]
     },
     "execution_count": 55,
     "metadata": {},
     "output_type": "execute_result"
    }
   ],
   "source": [
    "question_topics[3].argmax()"
   ]
  },
  {
   "cell_type": "code",
   "execution_count": 56,
   "metadata": {},
   "outputs": [],
   "source": [
    "topic_list = []\n",
    "\n",
    "for popular_index_pos in question_topics:\n",
    "    topic_list.append(popular_index_pos.argmax())\n",
    "    \n",
    "df[\"Topic Number\"] = topic_list"
   ]
  },
  {
   "cell_type": "code",
   "execution_count": 58,
   "metadata": {},
   "outputs": [
    {
     "data": {
      "text/html": [
       "<div>\n",
       "<style scoped>\n",
       "    .dataframe tbody tr th:only-of-type {\n",
       "        vertical-align: middle;\n",
       "    }\n",
       "\n",
       "    .dataframe tbody tr th {\n",
       "        vertical-align: top;\n",
       "    }\n",
       "\n",
       "    .dataframe thead th {\n",
       "        text-align: right;\n",
       "    }\n",
       "</style>\n",
       "<table border=\"1\" class=\"dataframe\">\n",
       "  <thead>\n",
       "    <tr style=\"text-align: right;\">\n",
       "      <th></th>\n",
       "      <th>question</th>\n",
       "      <th>Topic Number</th>\n",
       "    </tr>\n",
       "  </thead>\n",
       "  <tbody>\n",
       "    <tr>\n",
       "      <th>0</th>\n",
       "      <td>What is the step by step guide to invest in sh...</td>\n",
       "      <td>6</td>\n",
       "    </tr>\n",
       "    <tr>\n",
       "      <th>1</th>\n",
       "      <td>What is the story of Kohinoor (Koh-i-Noor) Dia...</td>\n",
       "      <td>12</td>\n",
       "    </tr>\n",
       "    <tr>\n",
       "      <th>2</th>\n",
       "      <td>How can I increase the speed of my internet co...</td>\n",
       "      <td>19</td>\n",
       "    </tr>\n",
       "    <tr>\n",
       "      <th>3</th>\n",
       "      <td>Why am I mentally very lonely? How can I solve...</td>\n",
       "      <td>13</td>\n",
       "    </tr>\n",
       "    <tr>\n",
       "      <th>4</th>\n",
       "      <td>Which one dissolve in water quikly sugar, salt...</td>\n",
       "      <td>15</td>\n",
       "    </tr>\n",
       "    <tr>\n",
       "      <th>5</th>\n",
       "      <td>Astrology: I am a Capricorn Sun Cap moon and c...</td>\n",
       "      <td>1</td>\n",
       "    </tr>\n",
       "    <tr>\n",
       "      <th>6</th>\n",
       "      <td>Should I buy tiago?</td>\n",
       "      <td>0</td>\n",
       "    </tr>\n",
       "    <tr>\n",
       "      <th>7</th>\n",
       "      <td>How can I be a good geologist?</td>\n",
       "      <td>8</td>\n",
       "    </tr>\n",
       "    <tr>\n",
       "      <th>8</th>\n",
       "      <td>When do you use ã‚· instead of ã—?</td>\n",
       "      <td>9</td>\n",
       "    </tr>\n",
       "    <tr>\n",
       "      <th>9</th>\n",
       "      <td>Motorola (company): Can I hack my Charter Moto...</td>\n",
       "      <td>9</td>\n",
       "    </tr>\n",
       "    <tr>\n",
       "      <th>10</th>\n",
       "      <td>Method to find separation of slits using fresn...</td>\n",
       "      <td>3</td>\n",
       "    </tr>\n",
       "    <tr>\n",
       "      <th>11</th>\n",
       "      <td>How do I read and find my YouTube comments?</td>\n",
       "      <td>3</td>\n",
       "    </tr>\n",
       "    <tr>\n",
       "      <th>12</th>\n",
       "      <td>What can make Physics easy to learn?</td>\n",
       "      <td>11</td>\n",
       "    </tr>\n",
       "    <tr>\n",
       "      <th>13</th>\n",
       "      <td>What was your first sexual experience like?</td>\n",
       "      <td>7</td>\n",
       "    </tr>\n",
       "    <tr>\n",
       "      <th>14</th>\n",
       "      <td>What are the laws to change your status from a...</td>\n",
       "      <td>18</td>\n",
       "    </tr>\n",
       "    <tr>\n",
       "      <th>15</th>\n",
       "      <td>What would a Trump presidency mean for current...</td>\n",
       "      <td>10</td>\n",
       "    </tr>\n",
       "    <tr>\n",
       "      <th>16</th>\n",
       "      <td>What does manipulation mean?</td>\n",
       "      <td>1</td>\n",
       "    </tr>\n",
       "    <tr>\n",
       "      <th>17</th>\n",
       "      <td>Why do girls want to be friends with the guy t...</td>\n",
       "      <td>7</td>\n",
       "    </tr>\n",
       "    <tr>\n",
       "      <th>18</th>\n",
       "      <td>Why are so many Quora users posting questions ...</td>\n",
       "      <td>2</td>\n",
       "    </tr>\n",
       "    <tr>\n",
       "      <th>19</th>\n",
       "      <td>Which is the best digital marketing institutio...</td>\n",
       "      <td>0</td>\n",
       "    </tr>\n",
       "    <tr>\n",
       "      <th>20</th>\n",
       "      <td>Why do rockets look white?</td>\n",
       "      <td>7</td>\n",
       "    </tr>\n",
       "    <tr>\n",
       "      <th>21</th>\n",
       "      <td>What's causing someone to be jealous?</td>\n",
       "      <td>17</td>\n",
       "    </tr>\n",
       "    <tr>\n",
       "      <th>22</th>\n",
       "      <td>What are the questions should not ask on Quora?</td>\n",
       "      <td>2</td>\n",
       "    </tr>\n",
       "    <tr>\n",
       "      <th>23</th>\n",
       "      <td>How much is 30 kV in HP?</td>\n",
       "      <td>15</td>\n",
       "    </tr>\n",
       "    <tr>\n",
       "      <th>24</th>\n",
       "      <td>What does it mean that every time I look at th...</td>\n",
       "      <td>16</td>\n",
       "    </tr>\n",
       "    <tr>\n",
       "      <th>25</th>\n",
       "      <td>What are some tips on making it through the jo...</td>\n",
       "      <td>9</td>\n",
       "    </tr>\n",
       "    <tr>\n",
       "      <th>26</th>\n",
       "      <td>What is web application?</td>\n",
       "      <td>11</td>\n",
       "    </tr>\n",
       "    <tr>\n",
       "      <th>27</th>\n",
       "      <td>Does society place too much importance on sports?</td>\n",
       "      <td>1</td>\n",
       "    </tr>\n",
       "    <tr>\n",
       "      <th>28</th>\n",
       "      <td>What is best way to make money online?</td>\n",
       "      <td>3</td>\n",
       "    </tr>\n",
       "    <tr>\n",
       "      <th>29</th>\n",
       "      <td>How should I prepare for CA final law?</td>\n",
       "      <td>8</td>\n",
       "    </tr>\n",
       "    <tr>\n",
       "      <th>30</th>\n",
       "      <td>What's one thing you would like to do better?</td>\n",
       "      <td>7</td>\n",
       "    </tr>\n",
       "    <tr>\n",
       "      <th>31</th>\n",
       "      <td>What are some special cares for someone with a...</td>\n",
       "      <td>16</td>\n",
       "    </tr>\n",
       "    <tr>\n",
       "      <th>32</th>\n",
       "      <td>What Game of Thrones villain would be the most...</td>\n",
       "      <td>18</td>\n",
       "    </tr>\n",
       "    <tr>\n",
       "      <th>33</th>\n",
       "      <td>Does the United States government still blackl...</td>\n",
       "      <td>1</td>\n",
       "    </tr>\n",
       "    <tr>\n",
       "      <th>34</th>\n",
       "      <td>What is the best travel website in spain?</td>\n",
       "      <td>0</td>\n",
       "    </tr>\n",
       "    <tr>\n",
       "      <th>35</th>\n",
       "      <td>Why do some people think Obama will try to tak...</td>\n",
       "      <td>17</td>\n",
       "    </tr>\n",
       "    <tr>\n",
       "      <th>36</th>\n",
       "      <td>I'm a 19-year-old. How can I improve my skills...</td>\n",
       "      <td>14</td>\n",
       "    </tr>\n",
       "    <tr>\n",
       "      <th>37</th>\n",
       "      <td>When a girlfriend asks her boyfriend \"Why did ...</td>\n",
       "      <td>18</td>\n",
       "    </tr>\n",
       "    <tr>\n",
       "      <th>38</th>\n",
       "      <td>How do we prepare for UPSC?</td>\n",
       "      <td>19</td>\n",
       "    </tr>\n",
       "    <tr>\n",
       "      <th>39</th>\n",
       "      <td>What is the stall speed and AOA of an f-14 wit...</td>\n",
       "      <td>16</td>\n",
       "    </tr>\n",
       "    <tr>\n",
       "      <th>40</th>\n",
       "      <td>Why do Slavs squat?</td>\n",
       "      <td>0</td>\n",
       "    </tr>\n",
       "    <tr>\n",
       "      <th>41</th>\n",
       "      <td>When can I expect my Cognizant confirmation mail?</td>\n",
       "      <td>16</td>\n",
       "    </tr>\n",
       "    <tr>\n",
       "      <th>42</th>\n",
       "      <td>Can I make 50,000 a month by day trading?</td>\n",
       "      <td>3</td>\n",
       "    </tr>\n",
       "    <tr>\n",
       "      <th>43</th>\n",
       "      <td>Is being a good kid and not being a rebel wort...</td>\n",
       "      <td>8</td>\n",
       "    </tr>\n",
       "    <tr>\n",
       "      <th>44</th>\n",
       "      <td>What universities does Rexnord recruit new gra...</td>\n",
       "      <td>1</td>\n",
       "    </tr>\n",
       "    <tr>\n",
       "      <th>45</th>\n",
       "      <td>What is the quickest way to increase Instagram...</td>\n",
       "      <td>19</td>\n",
       "    </tr>\n",
       "    <tr>\n",
       "      <th>46</th>\n",
       "      <td>How did Darth Vader fought Darth Maul in Star ...</td>\n",
       "      <td>18</td>\n",
       "    </tr>\n",
       "    <tr>\n",
       "      <th>47</th>\n",
       "      <td>What are the stages of breaking up between cou...</td>\n",
       "      <td>1</td>\n",
       "    </tr>\n",
       "    <tr>\n",
       "      <th>48</th>\n",
       "      <td>What are some examples of products that can be...</td>\n",
       "      <td>3</td>\n",
       "    </tr>\n",
       "    <tr>\n",
       "      <th>49</th>\n",
       "      <td>How do I make friends.</td>\n",
       "      <td>3</td>\n",
       "    </tr>\n",
       "    <tr>\n",
       "      <th>50</th>\n",
       "      <td>Is Career Launcher good for RBI Grade B prepar...</td>\n",
       "      <td>8</td>\n",
       "    </tr>\n",
       "    <tr>\n",
       "      <th>51</th>\n",
       "      <td>Will a Blu Ray play on a regular DVD player? I...</td>\n",
       "      <td>11</td>\n",
       "    </tr>\n",
       "    <tr>\n",
       "      <th>52</th>\n",
       "      <td>Nd she is always sad?</td>\n",
       "      <td>3</td>\n",
       "    </tr>\n",
       "    <tr>\n",
       "      <th>53</th>\n",
       "      <td>What is the best/most memorable thing you've e...</td>\n",
       "      <td>0</td>\n",
       "    </tr>\n",
       "    <tr>\n",
       "      <th>54</th>\n",
       "      <td>How GST affects the CAs and tax officers?</td>\n",
       "      <td>6</td>\n",
       "    </tr>\n",
       "    <tr>\n",
       "      <th>55</th>\n",
       "      <td>How difficult is it get into RSI?</td>\n",
       "      <td>11</td>\n",
       "    </tr>\n",
       "    <tr>\n",
       "      <th>56</th>\n",
       "      <td>Who is israil friend?</td>\n",
       "      <td>12</td>\n",
       "    </tr>\n",
       "    <tr>\n",
       "      <th>57</th>\n",
       "      <td>What are some good rap songs to dance to?</td>\n",
       "      <td>8</td>\n",
       "    </tr>\n",
       "    <tr>\n",
       "      <th>58</th>\n",
       "      <td>I was suddenly logged off Gmail. I can't remem...</td>\n",
       "      <td>19</td>\n",
       "    </tr>\n",
       "    <tr>\n",
       "      <th>59</th>\n",
       "      <td>What are the best ways to learn French?</td>\n",
       "      <td>11</td>\n",
       "    </tr>\n",
       "  </tbody>\n",
       "</table>\n",
       "</div>"
      ],
      "text/plain": [
       "                                             question  Topic Number\n",
       "0   What is the step by step guide to invest in sh...             6\n",
       "1   What is the story of Kohinoor (Koh-i-Noor) Dia...            12\n",
       "2   How can I increase the speed of my internet co...            19\n",
       "3   Why am I mentally very lonely? How can I solve...            13\n",
       "4   Which one dissolve in water quikly sugar, salt...            15\n",
       "5   Astrology: I am a Capricorn Sun Cap moon and c...             1\n",
       "6                                 Should I buy tiago?             0\n",
       "7                      How can I be a good geologist?             8\n",
       "8                 When do you use ã‚· instead of ã—?             9\n",
       "9   Motorola (company): Can I hack my Charter Moto...             9\n",
       "10  Method to find separation of slits using fresn...             3\n",
       "11        How do I read and find my YouTube comments?             3\n",
       "12               What can make Physics easy to learn?            11\n",
       "13        What was your first sexual experience like?             7\n",
       "14  What are the laws to change your status from a...            18\n",
       "15  What would a Trump presidency mean for current...            10\n",
       "16                       What does manipulation mean?             1\n",
       "17  Why do girls want to be friends with the guy t...             7\n",
       "18  Why are so many Quora users posting questions ...             2\n",
       "19  Which is the best digital marketing institutio...             0\n",
       "20                         Why do rockets look white?             7\n",
       "21              What's causing someone to be jealous?            17\n",
       "22    What are the questions should not ask on Quora?             2\n",
       "23                           How much is 30 kV in HP?            15\n",
       "24  What does it mean that every time I look at th...            16\n",
       "25  What are some tips on making it through the jo...             9\n",
       "26                           What is web application?            11\n",
       "27  Does society place too much importance on sports?             1\n",
       "28             What is best way to make money online?             3\n",
       "29             How should I prepare for CA final law?             8\n",
       "30      What's one thing you would like to do better?             7\n",
       "31  What are some special cares for someone with a...            16\n",
       "32  What Game of Thrones villain would be the most...            18\n",
       "33  Does the United States government still blackl...             1\n",
       "34          What is the best travel website in spain?             0\n",
       "35  Why do some people think Obama will try to tak...            17\n",
       "36  I'm a 19-year-old. How can I improve my skills...            14\n",
       "37  When a girlfriend asks her boyfriend \"Why did ...            18\n",
       "38                        How do we prepare for UPSC?            19\n",
       "39  What is the stall speed and AOA of an f-14 wit...            16\n",
       "40                                Why do Slavs squat?             0\n",
       "41  When can I expect my Cognizant confirmation mail?            16\n",
       "42          Can I make 50,000 a month by day trading?             3\n",
       "43  Is being a good kid and not being a rebel wort...             8\n",
       "44  What universities does Rexnord recruit new gra...             1\n",
       "45  What is the quickest way to increase Instagram...            19\n",
       "46  How did Darth Vader fought Darth Maul in Star ...            18\n",
       "47  What are the stages of breaking up between cou...             1\n",
       "48  What are some examples of products that can be...             3\n",
       "49                             How do I make friends.             3\n",
       "50  Is Career Launcher good for RBI Grade B prepar...             8\n",
       "51  Will a Blu Ray play on a regular DVD player? I...            11\n",
       "52                              Nd she is always sad?             3\n",
       "53  What is the best/most memorable thing you've e...             0\n",
       "54          How GST affects the CAs and tax officers?             6\n",
       "55                  How difficult is it get into RSI?            11\n",
       "56                              Who is israil friend?            12\n",
       "57          What are some good rap songs to dance to?             8\n",
       "58  I was suddenly logged off Gmail. I can't remem...            19\n",
       "59            What are the best ways to learn French?            11"
      ]
     },
     "execution_count": 58,
     "metadata": {},
     "output_type": "execute_result"
    }
   ],
   "source": [
    "df.head(60)"
   ]
  },
  {
   "cell_type": "code",
   "execution_count": null,
   "metadata": {},
   "outputs": [],
   "source": []
  }
 ],
 "metadata": {
  "kernelspec": {
   "display_name": "Python 3",
   "language": "python",
   "name": "python3"
  },
  "language_info": {
   "codemirror_mode": {
    "name": "ipython",
    "version": 3
   },
   "file_extension": ".py",
   "mimetype": "text/x-python",
   "name": "python",
   "nbconvert_exporter": "python",
   "pygments_lexer": "ipython3",
   "version": "3.8.2"
  }
 },
 "nbformat": 4,
 "nbformat_minor": 4
}
