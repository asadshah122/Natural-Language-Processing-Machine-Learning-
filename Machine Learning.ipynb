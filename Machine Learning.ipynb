{
 "cells": [
  {
   "cell_type": "code",
   "execution_count": 1,
   "metadata": {},
   "outputs": [],
   "source": [
    "# SMSSpamCollection.tsv from bb in jupyter notebok directory\n",
    "# Helloworld of Neural Networks"
   ]
  },
  {
   "cell_type": "code",
   "execution_count": 2,
   "metadata": {},
   "outputs": [
    {
     "name": "stdout",
     "output_type": "stream",
     "text": [
      "Requirement already satisfied: pandas in c:\\users\\asad\\anaconda3\\envs\\ai2_course\\lib\\site-packages (1.0.2)\n",
      "Requirement already satisfied: python-dateutil>=2.6.1 in c:\\users\\asad\\anaconda3\\envs\\ai2_course\\lib\\site-packages (from pandas) (2.8.1)\n",
      "Requirement already satisfied: pytz>=2017.2 in c:\\users\\asad\\anaconda3\\envs\\ai2_course\\lib\\site-packages (from pandas) (2019.3)\n",
      "Requirement already satisfied: numpy>=1.13.3 in c:\\users\\asad\\anaconda3\\envs\\ai2_course\\lib\\site-packages (from pandas) (1.18.1)\n",
      "Requirement already satisfied: six>=1.5 in c:\\users\\asad\\anaconda3\\envs\\ai2_course\\lib\\site-packages (from python-dateutil>=2.6.1->pandas) (1.14.0)\n"
     ]
    }
   ],
   "source": [
    "!pip install pandas"
   ]
  },
  {
   "cell_type": "code",
   "execution_count": 3,
   "metadata": {},
   "outputs": [],
   "source": [
    "import numpy as np\n",
    "import pandas as pd"
   ]
  },
  {
   "cell_type": "code",
   "execution_count": 4,
   "metadata": {},
   "outputs": [],
   "source": [
    "dataframe = pd.read_csv(\"SMSSpamCollection.tsv\", sep=\"\\t\")"
   ]
  },
  {
   "cell_type": "code",
   "execution_count": 5,
   "metadata": {},
   "outputs": [
    {
     "data": {
      "text/html": [
       "<div>\n",
       "<style scoped>\n",
       "    .dataframe tbody tr th:only-of-type {\n",
       "        vertical-align: middle;\n",
       "    }\n",
       "\n",
       "    .dataframe tbody tr th {\n",
       "        vertical-align: top;\n",
       "    }\n",
       "\n",
       "    .dataframe thead th {\n",
       "        text-align: right;\n",
       "    }\n",
       "</style>\n",
       "<table border=\"1\" class=\"dataframe\">\n",
       "  <thead>\n",
       "    <tr style=\"text-align: right;\">\n",
       "      <th></th>\n",
       "      <th>label</th>\n",
       "      <th>message</th>\n",
       "    </tr>\n",
       "  </thead>\n",
       "  <tbody>\n",
       "    <tr>\n",
       "      <th>0</th>\n",
       "      <td>ham</td>\n",
       "      <td>Go until jurong point, crazy.. Available only ...</td>\n",
       "    </tr>\n",
       "    <tr>\n",
       "      <th>1</th>\n",
       "      <td>ham</td>\n",
       "      <td>Ok lar... Joking wif u oni...</td>\n",
       "    </tr>\n",
       "    <tr>\n",
       "      <th>2</th>\n",
       "      <td>spam</td>\n",
       "      <td>Free entry in 2 a wkly comp to win FA Cup fina...</td>\n",
       "    </tr>\n",
       "    <tr>\n",
       "      <th>3</th>\n",
       "      <td>ham</td>\n",
       "      <td>U dun say so early hor... U c already then say...</td>\n",
       "    </tr>\n",
       "    <tr>\n",
       "      <th>4</th>\n",
       "      <td>ham</td>\n",
       "      <td>Nah I don't think he goes to usf, he lives aro...</td>\n",
       "    </tr>\n",
       "  </tbody>\n",
       "</table>\n",
       "</div>"
      ],
      "text/plain": [
       "  label                                            message\n",
       "0   ham  Go until jurong point, crazy.. Available only ...\n",
       "1   ham                      Ok lar... Joking wif u oni...\n",
       "2  spam  Free entry in 2 a wkly comp to win FA Cup fina...\n",
       "3   ham  U dun say so early hor... U c already then say...\n",
       "4   ham  Nah I don't think he goes to usf, he lives aro..."
      ]
     },
     "execution_count": 5,
     "metadata": {},
     "output_type": "execute_result"
    }
   ],
   "source": [
    "# Show first 5 rows\n",
    "dataframe.head()"
   ]
  },
  {
   "cell_type": "code",
   "execution_count": 6,
   "metadata": {},
   "outputs": [],
   "source": [
    "message_length = []\n",
    "\n",
    "for index, row in dataframe.iterrows():\n",
    "    length_message_text = len(row.message)\n",
    "    # Add the length of each text message to the list\n",
    "    message_length.append(length_message_text)"
   ]
  },
  {
   "cell_type": "code",
   "execution_count": 7,
   "metadata": {},
   "outputs": [
    {
     "data": {
      "text/plain": [
       "[111,\n",
       " 29,\n",
       " 155,\n",
       " 49,\n",
       " 61,\n",
       " 147,\n",
       " 77,\n",
       " 160,\n",
       " 157,\n",
       " 154,\n",
       " 109,\n",
       " 136,\n",
       " 155,\n",
       " 196,\n",
       " 35,\n",
       " 149,\n",
       " 26,\n",
       " 81,\n",
       " 56,\n",
       " 155,\n",
       " 41,\n",
       " 47,\n",
       " 52,\n",
       " 88,\n",
       " 57,\n",
       " 144,\n",
       " 30,\n",
       " 134,\n",
       " 75,\n",
       " 64,\n",
       " 130,\n",
       " 189,\n",
       " 29,\n",
       " 84,\n",
       " 158,\n",
       " 122,\n",
       " 47,\n",
       " 28,\n",
       " 27,\n",
       " 155,\n",
       " 82,\n",
       " 142,\n",
       " 172,\n",
       " 19,\n",
       " 72,\n",
       " 32,\n",
       " 45,\n",
       " 31,\n",
       " 67,\n",
       " 148,\n",
       " 58,\n",
       " 124,\n",
       " 80,\n",
       " 289,\n",
       " 120,\n",
       " 76,\n",
       " 161,\n",
       " 34,\n",
       " 22,\n",
       " 40,\n",
       " 108,\n",
       " 48,\n",
       " 25,\n",
       " 56,\n",
       " 110,\n",
       " 152,\n",
       " 122,\n",
       " 159,\n",
       " 78,\n",
       " 34,\n",
       " 46,\n",
       " 29,\n",
       " 45,\n",
       " 42,\n",
       " 20,\n",
       " 43,\n",
       " 73,\n",
       " 50,\n",
       " 42,\n",
       " 76,\n",
       " 22,\n",
       " 32,\n",
       " 32,\n",
       " 36,\n",
       " 14,\n",
       " 55,\n",
       " 121,\n",
       " 144,\n",
       " 42,\n",
       " 41,\n",
       " 58,\n",
       " 195,\n",
       " 141,\n",
       " 137,\n",
       " 107,\n",
       " 158,\n",
       " 33,\n",
       " 51,\n",
       " 178,\n",
       " 31,\n",
       " 57,\n",
       " 81,\n",
       " 76,\n",
       " 160,\n",
       " 183,\n",
       " 44,\n",
       " 95,\n",
       " 43,\n",
       " 82,\n",
       " 115,\n",
       " 30,\n",
       " 40,\n",
       " 31,\n",
       " 96,\n",
       " 158,\n",
       " 143,\n",
       " 156,\n",
       " 152,\n",
       " 72,\n",
       " 86,\n",
       " 144,\n",
       " 156,\n",
       " 53,\n",
       " 156,\n",
       " 52,\n",
       " 38,\n",
       " 20,\n",
       " 244,\n",
       " 22,\n",
       " 107,\n",
       " 28,\n",
       " 9,\n",
       " 39,\n",
       " 25,\n",
       " 125,\n",
       " 162,\n",
       " 38,\n",
       " 34,\n",
       " 46,\n",
       " 155,\n",
       " 85,\n",
       " 33,\n",
       " 27,\n",
       " 156,\n",
       " 42,\n",
       " 25,\n",
       " 48,\n",
       " 159,\n",
       " 84,\n",
       " 33,\n",
       " 30,\n",
       " 45,\n",
       " 59,\n",
       " 25,\n",
       " 160,\n",
       " 384,\n",
       " 28,\n",
       " 27,\n",
       " 157,\n",
       " 124,\n",
       " 145,\n",
       " 115,\n",
       " 64,\n",
       " 85,\n",
       " 152,\n",
       " 155,\n",
       " 51,\n",
       " 156,\n",
       " 74,\n",
       " 67,\n",
       " 59,\n",
       " 50,\n",
       " 94,\n",
       " 33,\n",
       " 105,\n",
       " 61,\n",
       " 65,\n",
       " 26,\n",
       " 146,\n",
       " 66,\n",
       " 126,\n",
       " 159,\n",
       " 23,\n",
       " 65,\n",
       " 24,\n",
       " 26,\n",
       " 152,\n",
       " 34,\n",
       " 147,\n",
       " 55,\n",
       " 88,\n",
       " 72,\n",
       " 185,\n",
       " 37,\n",
       " 111,\n",
       " 92,\n",
       " 28,\n",
       " 28,\n",
       " 64,\n",
       " 131,\n",
       " 40,\n",
       " 28,\n",
       " 84,\n",
       " 174,\n",
       " 24,\n",
       " 25,\n",
       " 63,\n",
       " 156,\n",
       " 28,\n",
       " 86,\n",
       " 39,\n",
       " 73,\n",
       " 26,\n",
       " 23,\n",
       " 23,\n",
       " 31,\n",
       " 58,\n",
       " 48,\n",
       " 41,\n",
       " 32,\n",
       " 159,\n",
       " 25,\n",
       " 161,\n",
       " 22,\n",
       " 119,\n",
       " 142,\n",
       " 69,\n",
       " 137,\n",
       " 30,\n",
       " 165,\n",
       " 34,\n",
       " 109,\n",
       " 37,\n",
       " 33,\n",
       " 48,\n",
       " 157,\n",
       " 50,\n",
       " 65,\n",
       " 38,\n",
       " 145,\n",
       " 145,\n",
       " 51,\n",
       " 45,\n",
       " 83,\n",
       " 155,\n",
       " 37,\n",
       " 78,\n",
       " 30,\n",
       " 31,\n",
       " 146,\n",
       " 150,\n",
       " 44,\n",
       " 179,\n",
       " 27,\n",
       " 179,\n",
       " 38,\n",
       " 97,\n",
       " 43,\n",
       " 36,\n",
       " 154,\n",
       " 72,\n",
       " 3,\n",
       " 85,\n",
       " 51,\n",
       " 121,\n",
       " 26,\n",
       " 35,\n",
       " 47,\n",
       " 159,\n",
       " 47,\n",
       " 133,\n",
       " 53,\n",
       " 147,\n",
       " 155,\n",
       " 37,\n",
       " 31,\n",
       " 8,\n",
       " 38,\n",
       " 30,\n",
       " 47,\n",
       " 56,\n",
       " 22,\n",
       " 141,\n",
       " 29,\n",
       " 7,\n",
       " 121,\n",
       " 58,\n",
       " 4,\n",
       " 148,\n",
       " 160,\n",
       " 152,\n",
       " 37,\n",
       " 55,\n",
       " 21,\n",
       " 22,\n",
       " 50,\n",
       " 159,\n",
       " 67,\n",
       " 153,\n",
       " 51,\n",
       " 67,\n",
       " 88,\n",
       " 157,\n",
       " 91,\n",
       " 24,\n",
       " 146,\n",
       " 57,\n",
       " 26,\n",
       " 71,\n",
       " 138,\n",
       " 55,\n",
       " 156,\n",
       " 133,\n",
       " 119,\n",
       " 142,\n",
       " 41,\n",
       " 26,\n",
       " 119,\n",
       " 46,\n",
       " 157,\n",
       " 23,\n",
       " 51,\n",
       " 62,\n",
       " 107,\n",
       " 157,\n",
       " 30,\n",
       " 32,\n",
       " 31,\n",
       " 79,\n",
       " 32,\n",
       " 86,\n",
       " 22,\n",
       " 76,\n",
       " 128,\n",
       " 232,\n",
       " 158,\n",
       " 45,\n",
       " 57,\n",
       " 26,\n",
       " 22,\n",
       " 41,\n",
       " 28,\n",
       " 151,\n",
       " 29,\n",
       " 34,\n",
       " 52,\n",
       " 33,\n",
       " 85,\n",
       " 31,\n",
       " 111,\n",
       " 78,\n",
       " 50,\n",
       " 63,\n",
       " 148,\n",
       " 129,\n",
       " 45,\n",
       " 202,\n",
       " 150,\n",
       " 148,\n",
       " 168,\n",
       " 85,\n",
       " 38,\n",
       " 15,\n",
       " 31,\n",
       " 88,\n",
       " 160,\n",
       " 50,\n",
       " 165,\n",
       " 129,\n",
       " 26,\n",
       " 31,\n",
       " 129,\n",
       " 34,\n",
       " 54,\n",
       " 162,\n",
       " 157,\n",
       " 23,\n",
       " 53,\n",
       " 131,\n",
       " 36,\n",
       " 143,\n",
       " 300,\n",
       " 59,\n",
       " 42,\n",
       " 41,\n",
       " 149,\n",
       " 22,\n",
       " 31,\n",
       " 30,\n",
       " 155,\n",
       " 47,\n",
       " 25,\n",
       " 80,\n",
       " 22,\n",
       " 115,\n",
       " 56,\n",
       " 102,\n",
       " 118,\n",
       " 221,\n",
       " 204,\n",
       " 114,\n",
       " 156,\n",
       " 39,\n",
       " 36,\n",
       " 48,\n",
       " 77,\n",
       " 60,\n",
       " 168,\n",
       " 51,\n",
       " 22,\n",
       " 152,\n",
       " 75,\n",
       " 30,\n",
       " 95,\n",
       " 24,\n",
       " 49,\n",
       " 35,\n",
       " 29,\n",
       " 106,\n",
       " 66,\n",
       " 159,\n",
       " 48,\n",
       " 162,\n",
       " 24,\n",
       " 136,\n",
       " 248,\n",
       " 25,\n",
       " 27,\n",
       " 37,\n",
       " 68,\n",
       " 150,\n",
       " 24,\n",
       " 80,\n",
       " 157,\n",
       " 25,\n",
       " 73,\n",
       " 89,\n",
       " 58,\n",
       " 36,\n",
       " 76,\n",
       " 47,\n",
       " 104,\n",
       " 38,\n",
       " 69,\n",
       " 22,\n",
       " 119,\n",
       " 94,\n",
       " 70,\n",
       " 73,\n",
       " 42,\n",
       " 17,\n",
       " 13,\n",
       " 45,\n",
       " 57,\n",
       " 105,\n",
       " 162,\n",
       " 47,\n",
       " 115,\n",
       " 158,\n",
       " 79,\n",
       " 142,\n",
       " 62,\n",
       " 71,\n",
       " 175,\n",
       " 29,\n",
       " 29,\n",
       " 148,\n",
       " 83,\n",
       " 37,\n",
       " 44,\n",
       " 45,\n",
       " 161,\n",
       " 50,\n",
       " 298,\n",
       " 159,\n",
       " 125,\n",
       " 51,\n",
       " 28,\n",
       " 34,\n",
       " 46,\n",
       " 81,\n",
       " 28,\n",
       " 90,\n",
       " 18,\n",
       " 54,\n",
       " 55,\n",
       " 45,\n",
       " 146,\n",
       " 40,\n",
       " 107,\n",
       " 50,\n",
       " 120,\n",
       " 160,\n",
       " 32,\n",
       " 34,\n",
       " 32,\n",
       " 16,\n",
       " 67,\n",
       " 55,\n",
       " 43,\n",
       " 23,\n",
       " 149,\n",
       " 20,\n",
       " 23,\n",
       " 40,\n",
       " 169,\n",
       " 117,\n",
       " 62,\n",
       " 166,\n",
       " 24,\n",
       " 136,\n",
       " 99,\n",
       " 45,\n",
       " 23,\n",
       " 25,\n",
       " 147,\n",
       " 26,\n",
       " 146,\n",
       " 89,\n",
       " 168,\n",
       " 117,\n",
       " 46,\n",
       " 26,\n",
       " 28,\n",
       " 32,\n",
       " 144,\n",
       " 57,\n",
       " 158,\n",
       " 42,\n",
       " 111,\n",
       " 36,\n",
       " 146,\n",
       " 50,\n",
       " 33,\n",
       " 15,\n",
       " 177,\n",
       " 160,\n",
       " 63,\n",
       " 84,\n",
       " 84,\n",
       " 57,\n",
       " 96,\n",
       " 169,\n",
       " 76,\n",
       " 47,\n",
       " 130,\n",
       " 23,\n",
       " 149,\n",
       " 32,\n",
       " 22,\n",
       " 101,\n",
       " 281,\n",
       " 54,\n",
       " 120,\n",
       " 138,\n",
       " 127,\n",
       " 66,\n",
       " 40,\n",
       " 40,\n",
       " 70,\n",
       " 160,\n",
       " 26,\n",
       " 32,\n",
       " 51,\n",
       " 159,\n",
       " 146,\n",
       " 103,\n",
       " 45,\n",
       " 142,\n",
       " 92,\n",
       " 26,\n",
       " 134,\n",
       " 37,\n",
       " 22,\n",
       " 22,\n",
       " 33,\n",
       " 69,\n",
       " 109,\n",
       " 35,\n",
       " 99,\n",
       " 140,\n",
       " 50,\n",
       " 46,\n",
       " 149,\n",
       " 63,\n",
       " 95,\n",
       " 69,\n",
       " 110,\n",
       " 51,\n",
       " 27,\n",
       " 34,\n",
       " 126,\n",
       " 142,\n",
       " 148,\n",
       " 24,\n",
       " 147,\n",
       " 24,\n",
       " 29,\n",
       " 86,\n",
       " 87,\n",
       " 38,\n",
       " 104,\n",
       " 59,\n",
       " 38,\n",
       " 38,\n",
       " 22,\n",
       " 25,\n",
       " 135,\n",
       " 87,\n",
       " 19,\n",
       " 66,\n",
       " 140,\n",
       " 156,\n",
       " 22,\n",
       " 107,\n",
       " 65,\n",
       " 145,\n",
       " 137,\n",
       " 25,\n",
       " 59,\n",
       " 103,\n",
       " 37,\n",
       " 58,\n",
       " 87,\n",
       " 58,\n",
       " 123,\n",
       " 67,\n",
       " 66,\n",
       " 102,\n",
       " 130,\n",
       " 148,\n",
       " 35,\n",
       " 8,\n",
       " 62,\n",
       " 56,\n",
       " 143,\n",
       " 20,\n",
       " 100,\n",
       " 49,\n",
       " 36,\n",
       " 53,\n",
       " 88,\n",
       " 133,\n",
       " 36,\n",
       " 37,\n",
       " 123,\n",
       " 92,\n",
       " 80,\n",
       " 136,\n",
       " 35,\n",
       " 97,\n",
       " 66,\n",
       " 119,\n",
       " 65,\n",
       " 26,\n",
       " 28,\n",
       " 45,\n",
       " 157,\n",
       " 36,\n",
       " 94,\n",
       " 59,\n",
       " 140,\n",
       " 22,\n",
       " 56,\n",
       " 43,\n",
       " 61,\n",
       " 56,\n",
       " 54,\n",
       " 37,\n",
       " 25,\n",
       " 21,\n",
       " 36,\n",
       " 93,\n",
       " 153,\n",
       " 153,\n",
       " 46,\n",
       " 34,\n",
       " 80,\n",
       " 69,\n",
       " 24,\n",
       " 108,\n",
       " 46,\n",
       " 29,\n",
       " 22,\n",
       " 158,\n",
       " 86,\n",
       " 30,\n",
       " 143,\n",
       " 169,\n",
       " 42,\n",
       " 111,\n",
       " 18,\n",
       " 109,\n",
       " 76,\n",
       " 73,\n",
       " 92,\n",
       " 36,\n",
       " 54,\n",
       " 76,\n",
       " 29,\n",
       " 40,\n",
       " 28,\n",
       " 22,\n",
       " 77,\n",
       " 109,\n",
       " 75,\n",
       " 76,\n",
       " 30,\n",
       " 49,\n",
       " 155,\n",
       " 160,\n",
       " 316,\n",
       " 195,\n",
       " 37,\n",
       " 125,\n",
       " 48,\n",
       " 39,\n",
       " 161,\n",
       " 121,\n",
       " 145,\n",
       " 162,\n",
       " 29,\n",
       " 38,\n",
       " 25,\n",
       " 40,\n",
       " 226,\n",
       " 70,\n",
       " 140,\n",
       " 47,\n",
       " 63,\n",
       " 17,\n",
       " 101,\n",
       " 41,\n",
       " 80,\n",
       " 137,\n",
       " 103,\n",
       " 29,\n",
       " 51,\n",
       " 148,\n",
       " 25,\n",
       " 149,\n",
       " 38,\n",
       " 62,\n",
       " 179,\n",
       " 34,\n",
       " 47,\n",
       " 40,\n",
       " 110,\n",
       " 131,\n",
       " 101,\n",
       " 42,\n",
       " 102,\n",
       " 65,\n",
       " 27,\n",
       " 31,\n",
       " 82,\n",
       " 23,\n",
       " 59,\n",
       " 133,\n",
       " 33,\n",
       " 95,\n",
       " 95,\n",
       " 135,\n",
       " 159,\n",
       " 151,\n",
       " 73,\n",
       " 149,\n",
       " 103,\n",
       " 22,\n",
       " 51,\n",
       " 137,\n",
       " 58,\n",
       " 89,\n",
       " 81,\n",
       " 57,\n",
       " 26,\n",
       " 32,\n",
       " 145,\n",
       " 118,\n",
       " 143,\n",
       " 23,\n",
       " 136,\n",
       " 94,\n",
       " 8,\n",
       " 99,\n",
       " 65,\n",
       " 71,\n",
       " 117,\n",
       " 129,\n",
       " 157,\n",
       " 28,\n",
       " 150,\n",
       " 31,\n",
       " 71,\n",
       " 70,\n",
       " 94,\n",
       " 48,\n",
       " 160,\n",
       " 94,\n",
       " 31,\n",
       " 39,\n",
       " 152,\n",
       " 71,\n",
       " 162,\n",
       " 141,\n",
       " 25,\n",
       " 22,\n",
       " 48,\n",
       " 33,\n",
       " 44,\n",
       " 47,\n",
       " 26,\n",
       " 112,\n",
       " 148,\n",
       " 19,\n",
       " 133,\n",
       " 48,\n",
       " 107,\n",
       " 38,\n",
       " 27,\n",
       " 124,\n",
       " 131,\n",
       " 23,\n",
       " 156,\n",
       " 161,\n",
       " 25,\n",
       " 42,\n",
       " 27,\n",
       " 22,\n",
       " 98,\n",
       " 89,\n",
       " 147,\n",
       " 129,\n",
       " 152,\n",
       " 215,\n",
       " 26,\n",
       " 66,\n",
       " 149,\n",
       " 372,\n",
       " 155,\n",
       " 160,\n",
       " 81,\n",
       " 73,\n",
       " 76,\n",
       " 153,\n",
       " 24,\n",
       " 231,\n",
       " 87,\n",
       " 72,\n",
       " 105,\n",
       " 158,\n",
       " 54,\n",
       " 58,\n",
       " 54,\n",
       " 114,\n",
       " 88,\n",
       " 144,\n",
       " 29,\n",
       " 136,\n",
       " 23,\n",
       " 39,\n",
       " 35,\n",
       " 24,\n",
       " 95,\n",
       " 73,\n",
       " 45,\n",
       " 160,\n",
       " 159,\n",
       " 149,\n",
       " 134,\n",
       " 154,\n",
       " 92,\n",
       " 102,\n",
       " 31,\n",
       " 77,\n",
       " 139,\n",
       " 156,\n",
       " 44,\n",
       " 136,\n",
       " 132,\n",
       " 143,\n",
       " 127,\n",
       " 276,\n",
       " 78,\n",
       " 27,\n",
       " 79,\n",
       " 24,\n",
       " 52,\n",
       " 68,\n",
       " 24,\n",
       " 44,\n",
       " 24,\n",
       " 55,\n",
       " 62,\n",
       " 104,\n",
       " 87,\n",
       " 148,\n",
       " 49,\n",
       " 154,\n",
       " 56,\n",
       " 158,\n",
       " 126,\n",
       " 43,\n",
       " 77,\n",
       " 49,\n",
       " 84,\n",
       " 49,\n",
       " 162,\n",
       " 79,\n",
       " 31,\n",
       " 155,\n",
       " 146,\n",
       " 23,\n",
       " 160,\n",
       " 62,\n",
       " 39,\n",
       " 67,\n",
       " 73,\n",
       " 148,\n",
       " 88,\n",
       " 37,\n",
       " 23,\n",
       " 56,\n",
       " 53,\n",
       " 73,\n",
       " 80,\n",
       " 44,\n",
       " 92,\n",
       " 35,\n",
       " 23,\n",
       " 139,\n",
       " 106,\n",
       " 103,\n",
       " 34,\n",
       " 77,\n",
       " 158,\n",
       " 26,\n",
       " 47,\n",
       " 24,\n",
       " 148,\n",
       " 133,\n",
       " 126,\n",
       " 78,\n",
       " 132,\n",
       " 116,\n",
       " 221,\n",
       " 59,\n",
       " 137,\n",
       " 143,\n",
       " 24,\n",
       " 38,\n",
       " 42,\n",
       " 24,\n",
       " 157,\n",
       " 47,\n",
       " 41,\n",
       " 122,\n",
       " 126,\n",
       " 26,\n",
       " 114,\n",
       " 7,\n",
       " 34,\n",
       " 156,\n",
       " 92,\n",
       " 90,\n",
       " 22,\n",
       " 85,\n",
       " 63,\n",
       " 220,\n",
       " 41,\n",
       " 60,\n",
       " 88,\n",
       " 31,\n",
       " 37,\n",
       " 28,\n",
       " 24,\n",
       " 118,\n",
       " 22,\n",
       " 210,\n",
       " 50,\n",
       " 49,\n",
       " 87,\n",
       " 61,\n",
       " 141,\n",
       " 54,\n",
       " 28,\n",
       " 49,\n",
       " 53,\n",
       " 145,\n",
       " 160,\n",
       " 53,\n",
       " 12,\n",
       " 142,\n",
       " 71,\n",
       " 129,\n",
       " 33,\n",
       " 47,\n",
       " 72,\n",
       " 148,\n",
       " 104,\n",
       " ...]"
      ]
     },
     "execution_count": 7,
     "metadata": {},
     "output_type": "execute_result"
    }
   ],
   "source": [
    "message_length"
   ]
  },
  {
   "cell_type": "code",
   "execution_count": 8,
   "metadata": {},
   "outputs": [],
   "source": [
    "dataframe[\"length\"] = message_length"
   ]
  },
  {
   "cell_type": "code",
   "execution_count": 9,
   "metadata": {},
   "outputs": [
    {
     "data": {
      "text/html": [
       "<div>\n",
       "<style scoped>\n",
       "    .dataframe tbody tr th:only-of-type {\n",
       "        vertical-align: middle;\n",
       "    }\n",
       "\n",
       "    .dataframe tbody tr th {\n",
       "        vertical-align: top;\n",
       "    }\n",
       "\n",
       "    .dataframe thead th {\n",
       "        text-align: right;\n",
       "    }\n",
       "</style>\n",
       "<table border=\"1\" class=\"dataframe\">\n",
       "  <thead>\n",
       "    <tr style=\"text-align: right;\">\n",
       "      <th></th>\n",
       "      <th>label</th>\n",
       "      <th>message</th>\n",
       "      <th>length</th>\n",
       "    </tr>\n",
       "  </thead>\n",
       "  <tbody>\n",
       "    <tr>\n",
       "      <th>0</th>\n",
       "      <td>ham</td>\n",
       "      <td>Go until jurong point, crazy.. Available only ...</td>\n",
       "      <td>111</td>\n",
       "    </tr>\n",
       "    <tr>\n",
       "      <th>1</th>\n",
       "      <td>ham</td>\n",
       "      <td>Ok lar... Joking wif u oni...</td>\n",
       "      <td>29</td>\n",
       "    </tr>\n",
       "    <tr>\n",
       "      <th>2</th>\n",
       "      <td>spam</td>\n",
       "      <td>Free entry in 2 a wkly comp to win FA Cup fina...</td>\n",
       "      <td>155</td>\n",
       "    </tr>\n",
       "    <tr>\n",
       "      <th>3</th>\n",
       "      <td>ham</td>\n",
       "      <td>U dun say so early hor... U c already then say...</td>\n",
       "      <td>49</td>\n",
       "    </tr>\n",
       "    <tr>\n",
       "      <th>4</th>\n",
       "      <td>ham</td>\n",
       "      <td>Nah I don't think he goes to usf, he lives aro...</td>\n",
       "      <td>61</td>\n",
       "    </tr>\n",
       "  </tbody>\n",
       "</table>\n",
       "</div>"
      ],
      "text/plain": [
       "  label                                            message  length\n",
       "0   ham  Go until jurong point, crazy.. Available only ...     111\n",
       "1   ham                      Ok lar... Joking wif u oni...      29\n",
       "2  spam  Free entry in 2 a wkly comp to win FA Cup fina...     155\n",
       "3   ham  U dun say so early hor... U c already then say...      49\n",
       "4   ham  Nah I don't think he goes to usf, he lives aro...      61"
      ]
     },
     "execution_count": 9,
     "metadata": {},
     "output_type": "execute_result"
    }
   ],
   "source": [
    "dataframe.head()"
   ]
  },
  {
   "cell_type": "code",
   "execution_count": 10,
   "metadata": {},
   "outputs": [
    {
     "data": {
      "text/html": [
       "<div>\n",
       "<style scoped>\n",
       "    .dataframe tbody tr th:only-of-type {\n",
       "        vertical-align: middle;\n",
       "    }\n",
       "\n",
       "    .dataframe tbody tr th {\n",
       "        vertical-align: top;\n",
       "    }\n",
       "\n",
       "    .dataframe thead th {\n",
       "        text-align: right;\n",
       "    }\n",
       "</style>\n",
       "<table border=\"1\" class=\"dataframe\">\n",
       "  <thead>\n",
       "    <tr style=\"text-align: right;\">\n",
       "      <th></th>\n",
       "      <th>label</th>\n",
       "      <th>message</th>\n",
       "      <th>length</th>\n",
       "    </tr>\n",
       "  </thead>\n",
       "  <tbody>\n",
       "    <tr>\n",
       "      <th>5567</th>\n",
       "      <td>spam</td>\n",
       "      <td>This is the 2nd time we have tried 2 contact u...</td>\n",
       "      <td>160</td>\n",
       "    </tr>\n",
       "    <tr>\n",
       "      <th>5568</th>\n",
       "      <td>ham</td>\n",
       "      <td>Will ü b going to esplanade fr home?</td>\n",
       "      <td>36</td>\n",
       "    </tr>\n",
       "    <tr>\n",
       "      <th>5569</th>\n",
       "      <td>ham</td>\n",
       "      <td>Pity, * was in mood for that. So...any other s...</td>\n",
       "      <td>57</td>\n",
       "    </tr>\n",
       "    <tr>\n",
       "      <th>5570</th>\n",
       "      <td>ham</td>\n",
       "      <td>The guy did some bitching but I acted like i'd...</td>\n",
       "      <td>125</td>\n",
       "    </tr>\n",
       "    <tr>\n",
       "      <th>5571</th>\n",
       "      <td>ham</td>\n",
       "      <td>Rofl. Its true to its name</td>\n",
       "      <td>26</td>\n",
       "    </tr>\n",
       "  </tbody>\n",
       "</table>\n",
       "</div>"
      ],
      "text/plain": [
       "     label                                            message  length\n",
       "5567  spam  This is the 2nd time we have tried 2 contact u...     160\n",
       "5568   ham               Will ü b going to esplanade fr home?      36\n",
       "5569   ham  Pity, * was in mood for that. So...any other s...      57\n",
       "5570   ham  The guy did some bitching but I acted like i'd...     125\n",
       "5571   ham                         Rofl. Its true to its name      26"
      ]
     },
     "execution_count": 10,
     "metadata": {},
     "output_type": "execute_result"
    }
   ],
   "source": [
    "dataframe.tail()"
   ]
  },
  {
   "cell_type": "code",
   "execution_count": 11,
   "metadata": {},
   "outputs": [
    {
     "data": {
      "text/html": [
       "<div>\n",
       "<style scoped>\n",
       "    .dataframe tbody tr th:only-of-type {\n",
       "        vertical-align: middle;\n",
       "    }\n",
       "\n",
       "    .dataframe tbody tr th {\n",
       "        vertical-align: top;\n",
       "    }\n",
       "\n",
       "    .dataframe thead th {\n",
       "        text-align: right;\n",
       "    }\n",
       "</style>\n",
       "<table border=\"1\" class=\"dataframe\">\n",
       "  <thead>\n",
       "    <tr style=\"text-align: right;\">\n",
       "      <th></th>\n",
       "      <th>label</th>\n",
       "      <th>message</th>\n",
       "      <th>length</th>\n",
       "    </tr>\n",
       "  </thead>\n",
       "  <tbody>\n",
       "    <tr>\n",
       "      <th>0</th>\n",
       "      <td>False</td>\n",
       "      <td>False</td>\n",
       "      <td>False</td>\n",
       "    </tr>\n",
       "    <tr>\n",
       "      <th>1</th>\n",
       "      <td>False</td>\n",
       "      <td>False</td>\n",
       "      <td>False</td>\n",
       "    </tr>\n",
       "    <tr>\n",
       "      <th>2</th>\n",
       "      <td>False</td>\n",
       "      <td>False</td>\n",
       "      <td>False</td>\n",
       "    </tr>\n",
       "    <tr>\n",
       "      <th>3</th>\n",
       "      <td>False</td>\n",
       "      <td>False</td>\n",
       "      <td>False</td>\n",
       "    </tr>\n",
       "    <tr>\n",
       "      <th>4</th>\n",
       "      <td>False</td>\n",
       "      <td>False</td>\n",
       "      <td>False</td>\n",
       "    </tr>\n",
       "    <tr>\n",
       "      <th>...</th>\n",
       "      <td>...</td>\n",
       "      <td>...</td>\n",
       "      <td>...</td>\n",
       "    </tr>\n",
       "    <tr>\n",
       "      <th>5567</th>\n",
       "      <td>False</td>\n",
       "      <td>False</td>\n",
       "      <td>False</td>\n",
       "    </tr>\n",
       "    <tr>\n",
       "      <th>5568</th>\n",
       "      <td>False</td>\n",
       "      <td>False</td>\n",
       "      <td>False</td>\n",
       "    </tr>\n",
       "    <tr>\n",
       "      <th>5569</th>\n",
       "      <td>False</td>\n",
       "      <td>False</td>\n",
       "      <td>False</td>\n",
       "    </tr>\n",
       "    <tr>\n",
       "      <th>5570</th>\n",
       "      <td>False</td>\n",
       "      <td>False</td>\n",
       "      <td>False</td>\n",
       "    </tr>\n",
       "    <tr>\n",
       "      <th>5571</th>\n",
       "      <td>False</td>\n",
       "      <td>False</td>\n",
       "      <td>False</td>\n",
       "    </tr>\n",
       "  </tbody>\n",
       "</table>\n",
       "<p>5572 rows × 3 columns</p>\n",
       "</div>"
      ],
      "text/plain": [
       "      label  message  length\n",
       "0     False    False   False\n",
       "1     False    False   False\n",
       "2     False    False   False\n",
       "3     False    False   False\n",
       "4     False    False   False\n",
       "...     ...      ...     ...\n",
       "5567  False    False   False\n",
       "5568  False    False   False\n",
       "5569  False    False   False\n",
       "5570  False    False   False\n",
       "5571  False    False   False\n",
       "\n",
       "[5572 rows x 3 columns]"
      ]
     },
     "execution_count": 11,
     "metadata": {},
     "output_type": "execute_result"
    }
   ],
   "source": [
    "dataframe.isnull()"
   ]
  },
  {
   "cell_type": "code",
   "execution_count": 12,
   "metadata": {},
   "outputs": [
    {
     "data": {
      "text/plain": [
       "label      0\n",
       "message    0\n",
       "length     0\n",
       "dtype: int64"
      ]
     },
     "execution_count": 12,
     "metadata": {},
     "output_type": "execute_result"
    }
   ],
   "source": [
    "# A\"1\" indicates missing values\n",
    "dataframe.isnull().sum()"
   ]
  },
  {
   "cell_type": "code",
   "execution_count": 13,
   "metadata": {},
   "outputs": [
    {
     "data": {
      "text/plain": [
       "5572"
      ]
     },
     "execution_count": 13,
     "metadata": {},
     "output_type": "execute_result"
    }
   ],
   "source": [
    "len(dataframe)"
   ]
  },
  {
   "cell_type": "code",
   "execution_count": 14,
   "metadata": {},
   "outputs": [
    {
     "data": {
      "text/plain": [
       "ham     4825\n",
       "spam     747\n",
       "Name: label, dtype: int64"
      ]
     },
     "execution_count": 14,
     "metadata": {},
     "output_type": "execute_result"
    }
   ],
   "source": [
    "dataframe[\"label\"].value_counts()"
   ]
  },
  {
   "cell_type": "code",
   "execution_count": 15,
   "metadata": {},
   "outputs": [
    {
     "data": {
      "text/plain": [
       "count    5572.000000\n",
       "mean       80.489950\n",
       "std        59.942907\n",
       "min         2.000000\n",
       "25%        36.000000\n",
       "50%        62.000000\n",
       "75%       122.000000\n",
       "max       910.000000\n",
       "Name: length, dtype: float64"
      ]
     },
     "execution_count": 15,
     "metadata": {},
     "output_type": "execute_result"
    }
   ],
   "source": [
    "dataframe[\"length\"].describe()"
   ]
  },
  {
   "cell_type": "code",
   "execution_count": 16,
   "metadata": {},
   "outputs": [],
   "source": [
    "ham_data = []\n",
    "spam_data = []\n",
    "\n",
    "for index, row in dataframe.iterrows():\n",
    "    # is label data = \"ham\"\n",
    "    if row[\"label\"] == \"ham\":\n",
    "        ham_data.append(row)\n",
    "    else:\n",
    "        spam_data.append(row)\n",
    "        \n",
    "# Convert each list to a DF\n",
    "ham_dataframe = pd.DataFrame(ham_data)\n",
    "spam_dataframe = pd.DataFrame(spam_data)"
   ]
  },
  {
   "cell_type": "code",
   "execution_count": 17,
   "metadata": {},
   "outputs": [
    {
     "data": {
      "text/html": [
       "<div>\n",
       "<style scoped>\n",
       "    .dataframe tbody tr th:only-of-type {\n",
       "        vertical-align: middle;\n",
       "    }\n",
       "\n",
       "    .dataframe tbody tr th {\n",
       "        vertical-align: top;\n",
       "    }\n",
       "\n",
       "    .dataframe thead th {\n",
       "        text-align: right;\n",
       "    }\n",
       "</style>\n",
       "<table border=\"1\" class=\"dataframe\">\n",
       "  <thead>\n",
       "    <tr style=\"text-align: right;\">\n",
       "      <th></th>\n",
       "      <th>label</th>\n",
       "      <th>message</th>\n",
       "      <th>length</th>\n",
       "    </tr>\n",
       "  </thead>\n",
       "  <tbody>\n",
       "    <tr>\n",
       "      <th>0</th>\n",
       "      <td>ham</td>\n",
       "      <td>Go until jurong point, crazy.. Available only ...</td>\n",
       "      <td>111</td>\n",
       "    </tr>\n",
       "    <tr>\n",
       "      <th>1</th>\n",
       "      <td>ham</td>\n",
       "      <td>Ok lar... Joking wif u oni...</td>\n",
       "      <td>29</td>\n",
       "    </tr>\n",
       "    <tr>\n",
       "      <th>3</th>\n",
       "      <td>ham</td>\n",
       "      <td>U dun say so early hor... U c already then say...</td>\n",
       "      <td>49</td>\n",
       "    </tr>\n",
       "    <tr>\n",
       "      <th>4</th>\n",
       "      <td>ham</td>\n",
       "      <td>Nah I don't think he goes to usf, he lives aro...</td>\n",
       "      <td>61</td>\n",
       "    </tr>\n",
       "    <tr>\n",
       "      <th>6</th>\n",
       "      <td>ham</td>\n",
       "      <td>Even my brother is not like to speak with me. ...</td>\n",
       "      <td>77</td>\n",
       "    </tr>\n",
       "  </tbody>\n",
       "</table>\n",
       "</div>"
      ],
      "text/plain": [
       "  label                                            message  length\n",
       "0   ham  Go until jurong point, crazy.. Available only ...     111\n",
       "1   ham                      Ok lar... Joking wif u oni...      29\n",
       "3   ham  U dun say so early hor... U c already then say...      49\n",
       "4   ham  Nah I don't think he goes to usf, he lives aro...      61\n",
       "6   ham  Even my brother is not like to speak with me. ...      77"
      ]
     },
     "execution_count": 17,
     "metadata": {},
     "output_type": "execute_result"
    }
   ],
   "source": [
    "ham_dataframe.head()"
   ]
  },
  {
   "cell_type": "code",
   "execution_count": 18,
   "metadata": {},
   "outputs": [
    {
     "data": {
      "text/plain": [
       "count    4825.000000\n",
       "mean       71.482487\n",
       "std        58.440652\n",
       "min         2.000000\n",
       "25%        33.000000\n",
       "50%        52.000000\n",
       "75%        93.000000\n",
       "max       910.000000\n",
       "Name: length, dtype: float64"
      ]
     },
     "execution_count": 18,
     "metadata": {},
     "output_type": "execute_result"
    }
   ],
   "source": [
    "ham_dataframe[\"length\"].describe()"
   ]
  },
  {
   "cell_type": "code",
   "execution_count": 19,
   "metadata": {},
   "outputs": [
    {
     "data": {
      "text/html": [
       "<div>\n",
       "<style scoped>\n",
       "    .dataframe tbody tr th:only-of-type {\n",
       "        vertical-align: middle;\n",
       "    }\n",
       "\n",
       "    .dataframe tbody tr th {\n",
       "        vertical-align: top;\n",
       "    }\n",
       "\n",
       "    .dataframe thead th {\n",
       "        text-align: right;\n",
       "    }\n",
       "</style>\n",
       "<table border=\"1\" class=\"dataframe\">\n",
       "  <thead>\n",
       "    <tr style=\"text-align: right;\">\n",
       "      <th></th>\n",
       "      <th>label</th>\n",
       "      <th>message</th>\n",
       "      <th>length</th>\n",
       "    </tr>\n",
       "  </thead>\n",
       "  <tbody>\n",
       "    <tr>\n",
       "      <th>2</th>\n",
       "      <td>spam</td>\n",
       "      <td>Free entry in 2 a wkly comp to win FA Cup fina...</td>\n",
       "      <td>155</td>\n",
       "    </tr>\n",
       "    <tr>\n",
       "      <th>5</th>\n",
       "      <td>spam</td>\n",
       "      <td>FreeMsg Hey there darling it's been 3 week's n...</td>\n",
       "      <td>147</td>\n",
       "    </tr>\n",
       "    <tr>\n",
       "      <th>8</th>\n",
       "      <td>spam</td>\n",
       "      <td>WINNER!! As a valued network customer you have...</td>\n",
       "      <td>157</td>\n",
       "    </tr>\n",
       "    <tr>\n",
       "      <th>9</th>\n",
       "      <td>spam</td>\n",
       "      <td>Had your mobile 11 months or more? U R entitle...</td>\n",
       "      <td>154</td>\n",
       "    </tr>\n",
       "    <tr>\n",
       "      <th>11</th>\n",
       "      <td>spam</td>\n",
       "      <td>SIX chances to win CASH! From 100 to 20,000 po...</td>\n",
       "      <td>136</td>\n",
       "    </tr>\n",
       "  </tbody>\n",
       "</table>\n",
       "</div>"
      ],
      "text/plain": [
       "   label                                            message  length\n",
       "2   spam  Free entry in 2 a wkly comp to win FA Cup fina...     155\n",
       "5   spam  FreeMsg Hey there darling it's been 3 week's n...     147\n",
       "8   spam  WINNER!! As a valued network customer you have...     157\n",
       "9   spam  Had your mobile 11 months or more? U R entitle...     154\n",
       "11  spam  SIX chances to win CASH! From 100 to 20,000 po...     136"
      ]
     },
     "execution_count": 19,
     "metadata": {},
     "output_type": "execute_result"
    }
   ],
   "source": [
    "spam_dataframe.head()"
   ]
  },
  {
   "cell_type": "code",
   "execution_count": 20,
   "metadata": {},
   "outputs": [
    {
     "data": {
      "text/plain": [
       "count    747.000000\n",
       "mean     138.670683\n",
       "std       28.873603\n",
       "min       13.000000\n",
       "25%      133.000000\n",
       "50%      149.000000\n",
       "75%      157.000000\n",
       "max      223.000000\n",
       "Name: length, dtype: float64"
      ]
     },
     "execution_count": 20,
     "metadata": {},
     "output_type": "execute_result"
    }
   ],
   "source": [
    "spam_dataframe[\"length\"].describe()"
   ]
  },
  {
   "cell_type": "code",
   "execution_count": 21,
   "metadata": {},
   "outputs": [
    {
     "name": "stdout",
     "output_type": "stream",
     "text": [
      "Requirement already satisfied: matplotlib in c:\\users\\asad\\anaconda3\\envs\\ai2_course\\lib\\site-packages (3.2.1)\n",
      "Requirement already satisfied: python-dateutil>=2.1 in c:\\users\\asad\\anaconda3\\envs\\ai2_course\\lib\\site-packages (from matplotlib) (2.8.1)\n",
      "Requirement already satisfied: cycler>=0.10 in c:\\users\\asad\\anaconda3\\envs\\ai2_course\\lib\\site-packages (from matplotlib) (0.10.0)\n",
      "Requirement already satisfied: numpy>=1.11 in c:\\users\\asad\\anaconda3\\envs\\ai2_course\\lib\\site-packages (from matplotlib) (1.18.1)\n",
      "Requirement already satisfied: kiwisolver>=1.0.1 in c:\\users\\asad\\anaconda3\\envs\\ai2_course\\lib\\site-packages (from matplotlib) (1.1.0)\n",
      "Requirement already satisfied: pyparsing!=2.0.4,!=2.1.2,!=2.1.6,>=2.0.1 in c:\\users\\asad\\anaconda3\\envs\\ai2_course\\lib\\site-packages (from matplotlib) (2.4.6)\n",
      "Requirement already satisfied: six>=1.5 in c:\\users\\asad\\anaconda3\\envs\\ai2_course\\lib\\site-packages (from python-dateutil>=2.1->matplotlib) (1.14.0)\n",
      "Requirement already satisfied: setuptools in c:\\users\\asad\\anaconda3\\envs\\ai2_course\\lib\\site-packages (from kiwisolver>=1.0.1->matplotlib) (45.2.0.post20200209)\n"
     ]
    }
   ],
   "source": [
    "!pip install matplotlib\n",
    "import matplotlib.pyplot as matplot_lib\n",
    "\n"
   ]
  },
  {
   "cell_type": "code",
   "execution_count": 22,
   "metadata": {},
   "outputs": [
    {
     "data": {
      "image/png": "[encoded data removed]",
      "text/plain": [
       "<Figure size 432x288 with 1 Axes>"
      ]
     },
     "metadata": {
      "needs_background": "light"
     },
     "output_type": "display_data"
    }
   ],
   "source": [
    "%matplotlib inline\n",
    "\n",
    "matplot_lib.xscale('log')\n",
    "matplot_lib.xlabel('% change in text message length')\n",
    "matplot_lib.ylabel('No of messages')\n",
    "\n",
    "bins = 1.15 **(np.arange(0,50))\n",
    "matplot_lib.hist(dataframe[dataframe['label']=='ham']['length'], bins = bins, alpha = 0.9)\n",
    "matplot_lib.hist(dataframe[dataframe['label']=='spam']['length'], bins = bins, alpha = 0.9)\n",
    "matplot_lib.legend((\"ham\", \"spam\"))\n",
    "matplot_lib.show()\n"
   ]
  },
  {
   "cell_type": "code",
   "execution_count": 23,
   "metadata": {},
   "outputs": [],
   "source": [
    "import spacy\n",
    "nlp = spacy.load(\"en_core_web_sm\")"
   ]
  },
  {
   "cell_type": "code",
   "execution_count": 24,
   "metadata": {},
   "outputs": [],
   "source": [
    "punct_list = []\n",
    "punct_count = 0\n",
    "\n",
    "for index, textrow in dataframe.iterrows():\n",
    "    doc_object = nlp(textrow.message)\n",
    "    for token in doc_object:\n",
    "        if token.pos == \"PUNCT\":\n",
    "            punct_count += 1\n",
    "    # Sentence is checked so add count to list\n",
    "    punct_list.append(punct_count)\n",
    "    punct_count = 0"
   ]
  },
  {
   "cell_type": "code",
   "execution_count": 25,
   "metadata": {},
   "outputs": [
    {
     "name": "stdout",
     "output_type": "stream",
     "text": [
      "5572\n",
      "5572\n"
     ]
    }
   ],
   "source": [
    "# Check list contains the same no of items as the dataframe\n",
    "print(len(punct_list))\n",
    "print(len(dataframe))"
   ]
  },
  {
   "cell_type": "code",
   "execution_count": 26,
   "metadata": {},
   "outputs": [],
   "source": [
    "dataframe[\"punct\"] = punct_list"
   ]
  },
  {
   "cell_type": "code",
   "execution_count": 27,
   "metadata": {},
   "outputs": [
    {
     "data": {
      "text/html": [
       "<div>\n",
       "<style scoped>\n",
       "    .dataframe tbody tr th:only-of-type {\n",
       "        vertical-align: middle;\n",
       "    }\n",
       "\n",
       "    .dataframe tbody tr th {\n",
       "        vertical-align: top;\n",
       "    }\n",
       "\n",
       "    .dataframe thead th {\n",
       "        text-align: right;\n",
       "    }\n",
       "</style>\n",
       "<table border=\"1\" class=\"dataframe\">\n",
       "  <thead>\n",
       "    <tr style=\"text-align: right;\">\n",
       "      <th></th>\n",
       "      <th>label</th>\n",
       "      <th>message</th>\n",
       "      <th>length</th>\n",
       "      <th>punct</th>\n",
       "    </tr>\n",
       "  </thead>\n",
       "  <tbody>\n",
       "    <tr>\n",
       "      <th>0</th>\n",
       "      <td>ham</td>\n",
       "      <td>Go until jurong point, crazy.. Available only ...</td>\n",
       "      <td>111</td>\n",
       "      <td>0</td>\n",
       "    </tr>\n",
       "    <tr>\n",
       "      <th>1</th>\n",
       "      <td>ham</td>\n",
       "      <td>Ok lar... Joking wif u oni...</td>\n",
       "      <td>29</td>\n",
       "      <td>0</td>\n",
       "    </tr>\n",
       "    <tr>\n",
       "      <th>2</th>\n",
       "      <td>spam</td>\n",
       "      <td>Free entry in 2 a wkly comp to win FA Cup fina...</td>\n",
       "      <td>155</td>\n",
       "      <td>0</td>\n",
       "    </tr>\n",
       "    <tr>\n",
       "      <th>3</th>\n",
       "      <td>ham</td>\n",
       "      <td>U dun say so early hor... U c already then say...</td>\n",
       "      <td>49</td>\n",
       "      <td>0</td>\n",
       "    </tr>\n",
       "    <tr>\n",
       "      <th>4</th>\n",
       "      <td>ham</td>\n",
       "      <td>Nah I don't think he goes to usf, he lives aro...</td>\n",
       "      <td>61</td>\n",
       "      <td>0</td>\n",
       "    </tr>\n",
       "  </tbody>\n",
       "</table>\n",
       "</div>"
      ],
      "text/plain": [
       "  label                                            message  length  punct\n",
       "0   ham  Go until jurong point, crazy.. Available only ...     111      0\n",
       "1   ham                      Ok lar... Joking wif u oni...      29      0\n",
       "2  spam  Free entry in 2 a wkly comp to win FA Cup fina...     155      0\n",
       "3   ham  U dun say so early hor... U c already then say...      49      0\n",
       "4   ham  Nah I don't think he goes to usf, he lives aro...      61      0"
      ]
     },
     "execution_count": 27,
     "metadata": {},
     "output_type": "execute_result"
    }
   ],
   "source": [
    "dataframe.head()"
   ]
  },
  {
   "cell_type": "code",
   "execution_count": 28,
   "metadata": {},
   "outputs": [
    {
     "data": {
      "text/plain": [
       "count    5572.0\n",
       "mean        0.0\n",
       "std         0.0\n",
       "min         0.0\n",
       "25%         0.0\n",
       "50%         0.0\n",
       "75%         0.0\n",
       "max         0.0\n",
       "Name: punct, dtype: float64"
      ]
     },
     "execution_count": 28,
     "metadata": {},
     "output_type": "execute_result"
    }
   ],
   "source": [
    "dataframe[\"punct\"].describe()"
   ]
  },
  {
   "cell_type": "code",
   "execution_count": 29,
   "metadata": {},
   "outputs": [
    {
     "data": {
      "image/png": "[encoded data removed]",
      "text/plain": [
       "<Figure size 432x288 with 1 Axes>"
      ]
     },
     "metadata": {
      "needs_background": "light"
     },
     "output_type": "display_data"
    }
   ],
   "source": [
    "# enable the inlinebackend for usage with the ipython notebook\n",
    "%matplotlib inline\n",
    "\n",
    "matplot_lib.xscale('log')\n",
    "matplot_lib.xlabel('% change in text message punctuation')\n",
    "matplot_lib.ylabel('No of messages')\n",
    "\n",
    "bins = 1.5 **(np.arange(0,15))\n",
    "matplot_lib.hist(dataframe[dataframe['label']=='ham']['length'], bins = bins, alpha = 0.9)\n",
    "matplot_lib.hist(dataframe[dataframe['label']=='spam']['length'], bins = bins, alpha = 0.9)\n",
    "matplot_lib.legend((\"ham\", \"spam\"))\n",
    "matplot_lib.show()"
   ]
  },
  {
   "cell_type": "code",
   "execution_count": 30,
   "metadata": {},
   "outputs": [
    {
     "name": "stderr",
     "output_type": "stream",
     "text": [
      "WARNING: Retrying (Retry(total=4, connect=None, read=None, redirect=None, status=None)) after connection broken by 'NewConnectionError('<pip._vendor.urllib3.connection.VerifiedHTTPSConnection object at 0x00000075016F57C0>: Failed to establish a new connection: [Errno 11001] getaddrinfo failed')': /simple/scikit-learn/\n",
      "WARNING: Retrying (Retry(total=3, connect=None, read=None, redirect=None, status=None)) after connection broken by 'NewConnectionError('<pip._vendor.urllib3.connection.VerifiedHTTPSConnection object at 0x00000075016F5970>: Failed to establish a new connection: [Errno 11001] getaddrinfo failed')': /simple/scikit-learn/\n",
      "WARNING: Retrying (Retry(total=2, connect=None, read=None, redirect=None, status=None)) after connection broken by 'NewConnectionError('<pip._vendor.urllib3.connection.VerifiedHTTPSConnection object at 0x00000075016F5AC0>: Failed to establish a new connection: [Errno 11001] getaddrinfo failed')': /simple/scikit-learn/\n"
     ]
    },
    {
     "name": "stdout",
     "output_type": "stream",
     "text": [
      "Requirement already up-to-date: scikit-learn in c:\\users\\asad\\anaconda3\\envs\\ai2_course\\lib\\site-packages (0.22.2.post1)\n",
      "Requirement already up-to-date: scipy in c:\\users\\asad\\anaconda3\\envs\\ai2_course\\lib\\site-packages (1.4.1)\n",
      "Requirement already up-to-date: matplotlib in c:\\users\\asad\\anaconda3\\envs\\ai2_course\\lib\\site-packages (3.2.1)\n",
      "Requirement already satisfied, skipping upgrade: joblib>=0.11 in c:\\users\\asad\\anaconda3\\envs\\ai2_course\\lib\\site-packages (from scikit-learn) (0.14.1)\n",
      "Requirement already satisfied, skipping upgrade: numpy>=1.11.0 in c:\\users\\asad\\anaconda3\\envs\\ai2_course\\lib\\site-packages (from scikit-learn) (1.18.1)\n",
      "Requirement already satisfied, skipping upgrade: python-dateutil>=2.1 in c:\\users\\asad\\anaconda3\\envs\\ai2_course\\lib\\site-packages (from matplotlib) (2.8.1)\n",
      "Requirement already satisfied, skipping upgrade: kiwisolver>=1.0.1 in c:\\users\\asad\\anaconda3\\envs\\ai2_course\\lib\\site-packages (from matplotlib) (1.1.0)\n",
      "Requirement already satisfied, skipping upgrade: pyparsing!=2.0.4,!=2.1.2,!=2.1.6,>=2.0.1 in c:\\users\\asad\\anaconda3\\envs\\ai2_course\\lib\\site-packages (from matplotlib) (2.4.6)\n",
      "Requirement already satisfied, skipping upgrade: cycler>=0.10 in c:\\users\\asad\\anaconda3\\envs\\ai2_course\\lib\\site-packages (from matplotlib) (0.10.0)\n",
      "Requirement already satisfied, skipping upgrade: six>=1.5 in c:\\users\\asad\\anaconda3\\envs\\ai2_course\\lib\\site-packages (from python-dateutil>=2.1->matplotlib) (1.14.0)\n",
      "Requirement already satisfied, skipping upgrade: setuptools in c:\\users\\asad\\anaconda3\\envs\\ai2_course\\lib\\site-packages (from kiwisolver>=1.0.1->matplotlib) (45.2.0.post20200209)\n"
     ]
    }
   ],
   "source": [
    "!pip install -U scikit-learn scipy matplotlib"
   ]
  },
  {
   "cell_type": "code",
   "execution_count": 31,
   "metadata": {},
   "outputs": [],
   "source": [
    "# ML model creation using scikit learn\n",
    "# Scikitlearn is open source ML library for regression, classification and others\n",
    "\n",
    "# First split data into training and testing\n",
    "from sklearn.model_selection import train_test_split\n"
   ]
  },
  {
   "cell_type": "code",
   "execution_count": 32,
   "metadata": {},
   "outputs": [],
   "source": [
    "# X is the feature data\n",
    "# We are creating a list of column names to use from the dataframe\n",
    "\n",
    "# Syntax is important\n",
    "X = dataframe[[\"length\",\"punct\"]]\n",
    "\n",
    "y = dataframe[\"label\"]\n",
    "\n",
    "X_train, X_test, y_train, y_test = train_test_split(X, y, test_size=0.3, random_state=1)\n"
   ]
  },
  {
   "cell_type": "code",
   "execution_count": 33,
   "metadata": {},
   "outputs": [
    {
     "name": "stdout",
     "output_type": "stream",
     "text": [
      "X train data shape (3900, 2)\n",
      "X test data shape (1672, 2)\n"
     ]
    }
   ],
   "source": [
    "print(\"X train data shape\", X_train.shape)\n",
    "print(\"X test data shape\", X_test.shape)\n"
   ]
  },
  {
   "cell_type": "code",
   "execution_count": 34,
   "metadata": {},
   "outputs": [
    {
     "name": "stdout",
     "output_type": "stream",
     "text": [
      "y train data shape (3900,)\n",
      "y test data shape (1672,)\n"
     ]
    }
   ],
   "source": [
    "print(\"y train data shape\", y_train.shape)\n",
    "print(\"y test data shape\", y_test.shape)"
   ]
  },
  {
   "cell_type": "code",
   "execution_count": 35,
   "metadata": {},
   "outputs": [
    {
     "data": {
      "text/html": [
       "<div>\n",
       "<style scoped>\n",
       "    .dataframe tbody tr th:only-of-type {\n",
       "        vertical-align: middle;\n",
       "    }\n",
       "\n",
       "    .dataframe tbody tr th {\n",
       "        vertical-align: top;\n",
       "    }\n",
       "\n",
       "    .dataframe thead th {\n",
       "        text-align: right;\n",
       "    }\n",
       "</style>\n",
       "<table border=\"1\" class=\"dataframe\">\n",
       "  <thead>\n",
       "    <tr style=\"text-align: right;\">\n",
       "      <th></th>\n",
       "      <th>length</th>\n",
       "      <th>punct</th>\n",
       "    </tr>\n",
       "  </thead>\n",
       "  <tbody>\n",
       "    <tr>\n",
       "      <th>4393</th>\n",
       "      <td>30</td>\n",
       "      <td>0</td>\n",
       "    </tr>\n",
       "    <tr>\n",
       "      <th>216</th>\n",
       "      <td>58</td>\n",
       "      <td>0</td>\n",
       "    </tr>\n",
       "    <tr>\n",
       "      <th>4471</th>\n",
       "      <td>97</td>\n",
       "      <td>0</td>\n",
       "    </tr>\n",
       "    <tr>\n",
       "      <th>3889</th>\n",
       "      <td>34</td>\n",
       "      <td>0</td>\n",
       "    </tr>\n",
       "    <tr>\n",
       "      <th>5030</th>\n",
       "      <td>126</td>\n",
       "      <td>0</td>\n",
       "    </tr>\n",
       "    <tr>\n",
       "      <th>...</th>\n",
       "      <td>...</td>\n",
       "      <td>...</td>\n",
       "    </tr>\n",
       "    <tr>\n",
       "      <th>905</th>\n",
       "      <td>84</td>\n",
       "      <td>0</td>\n",
       "    </tr>\n",
       "    <tr>\n",
       "      <th>5192</th>\n",
       "      <td>69</td>\n",
       "      <td>0</td>\n",
       "    </tr>\n",
       "    <tr>\n",
       "      <th>3980</th>\n",
       "      <td>73</td>\n",
       "      <td>0</td>\n",
       "    </tr>\n",
       "    <tr>\n",
       "      <th>235</th>\n",
       "      <td>157</td>\n",
       "      <td>0</td>\n",
       "    </tr>\n",
       "    <tr>\n",
       "      <th>5157</th>\n",
       "      <td>23</td>\n",
       "      <td>0</td>\n",
       "    </tr>\n",
       "  </tbody>\n",
       "</table>\n",
       "<p>3900 rows × 2 columns</p>\n",
       "</div>"
      ],
      "text/plain": [
       "      length  punct\n",
       "4393      30      0\n",
       "216       58      0\n",
       "4471      97      0\n",
       "3889      34      0\n",
       "5030     126      0\n",
       "...      ...    ...\n",
       "905       84      0\n",
       "5192      69      0\n",
       "3980      73      0\n",
       "235      157      0\n",
       "5157      23      0\n",
       "\n",
       "[3900 rows x 2 columns]"
      ]
     },
     "execution_count": 35,
     "metadata": {},
     "output_type": "execute_result"
    }
   ],
   "source": [
    "X_train"
   ]
  },
  {
   "cell_type": "code",
   "execution_count": 36,
   "metadata": {},
   "outputs": [
    {
     "name": "stdout",
     "output_type": "stream",
     "text": [
      "4393     ham\n",
      "216      ham\n",
      "4471     ham\n",
      "3889     ham\n",
      "5030    spam\n",
      "        ... \n",
      "905      ham\n",
      "5192     ham\n",
      "3980     ham\n",
      "235     spam\n",
      "5157     ham\n",
      "Name: label, Length: 3900, dtype: object\n"
     ]
    }
   ],
   "source": [
    "print(y_train)"
   ]
  },
  {
   "cell_type": "code",
   "execution_count": 37,
   "metadata": {},
   "outputs": [],
   "source": [
    "# step 1: import the model\n",
    "# step 2: create an instance of the model\n",
    "# step 3: build a model and fit the data\n",
    "# step 4: test accuracy"
   ]
  },
  {
   "cell_type": "code",
   "execution_count": 38,
   "metadata": {},
   "outputs": [],
   "source": [
    "# Logistic Regression Classifier(Model)\n",
    "# Step 1\n",
    "\n",
    "from sklearn.linear_model import LogisticRegression"
   ]
  },
  {
   "cell_type": "code",
   "execution_count": 39,
   "metadata": {},
   "outputs": [
    {
     "data": {
      "text/plain": [
       "LogisticRegression(C=1.0, class_weight=None, dual=False, fit_intercept=True,\n",
       "                   intercept_scaling=1, l1_ratio=None, max_iter=100,\n",
       "                   multi_class='auto', n_jobs=None, penalty='l2',\n",
       "                   random_state=None, solver='lbfgs', tol=0.0001, verbose=0,\n",
       "                   warm_start=False)"
      ]
     },
     "execution_count": 39,
     "metadata": {},
     "output_type": "execute_result"
    }
   ],
   "source": [
    "# Step 2\n",
    "lin_reg_model = LogisticRegression(solver='lbfgs')\n",
    "\n",
    "# Step 3\n",
    "lin_reg_model.fit(X_train, y_train)"
   ]
  },
  {
   "cell_type": "code",
   "execution_count": 40,
   "metadata": {},
   "outputs": [],
   "source": [
    "# Testing Accuracy using test data\n",
    "# Step 4\n",
    "from sklearn import metrics\n",
    "\n",
    "# Create a prediction set\n",
    "# Model has not yet seen X_test\n",
    "# And we know what to expect from answer in y_test\n",
    "lin_reg_model_predictions = lin_reg_model.predict(X_test)"
   ]
  },
  {
   "cell_type": "code",
   "execution_count": 41,
   "metadata": {},
   "outputs": [
    {
     "data": {
      "text/plain": [
       "array(['ham', 'ham', 'ham', ..., 'ham', 'ham', 'ham'], dtype=object)"
      ]
     },
     "execution_count": 41,
     "metadata": {},
     "output_type": "execute_result"
    }
   ],
   "source": [
    "# Let's look at the prediction set\n",
    "lin_reg_model_predictions"
   ]
  },
  {
   "cell_type": "code",
   "execution_count": 42,
   "metadata": {},
   "outputs": [
    {
     "name": "stdout",
     "output_type": "stream",
     "text": [
      "[[1397   45]\n",
      " [ 228    2]]\n"
     ]
    }
   ],
   "source": [
    "# Now we can compare the model predicted with what is expected \n",
    "# as output using a confusion matrix\n",
    "\n",
    "print(metrics.confusion_matrix(y_test, lin_reg_model_predictions))"
   ]
  },
  {
   "cell_type": "code",
   "execution_count": 43,
   "metadata": {},
   "outputs": [
    {
     "data": {
      "text/html": [
       "<div>\n",
       "<style scoped>\n",
       "    .dataframe tbody tr th:only-of-type {\n",
       "        vertical-align: middle;\n",
       "    }\n",
       "\n",
       "    .dataframe tbody tr th {\n",
       "        vertical-align: top;\n",
       "    }\n",
       "\n",
       "    .dataframe thead th {\n",
       "        text-align: right;\n",
       "    }\n",
       "</style>\n",
       "<table border=\"1\" class=\"dataframe\">\n",
       "  <thead>\n",
       "    <tr style=\"text-align: right;\">\n",
       "      <th></th>\n",
       "      <th>Predicted ham</th>\n",
       "      <th>Predicted spam</th>\n",
       "    </tr>\n",
       "  </thead>\n",
       "  <tbody>\n",
       "    <tr>\n",
       "      <th>Correct ham</th>\n",
       "      <td>1397</td>\n",
       "      <td>45</td>\n",
       "    </tr>\n",
       "    <tr>\n",
       "      <th>Correct spam</th>\n",
       "      <td>228</td>\n",
       "      <td>2</td>\n",
       "    </tr>\n",
       "  </tbody>\n",
       "</table>\n",
       "</div>"
      ],
      "text/plain": [
       "              Predicted ham  Predicted spam\n",
       "Correct ham            1397              45\n",
       "Correct spam            228               2"
      ]
     },
     "execution_count": 43,
     "metadata": {},
     "output_type": "execute_result"
    }
   ],
   "source": [
    "dataframe_labels = pd.DataFrame(metrics.confusion_matrix(y_test, lin_reg_model_predictions), index=[\"Correct ham\", \"Correct spam\"], columns=[\"Predicted ham\", \"Predicted spam\"])\n",
    "dataframe_labels"
   ]
  },
  {
   "cell_type": "code",
   "execution_count": 44,
   "metadata": {},
   "outputs": [],
   "source": [
    "# Accuracy = (TotalPositive + TotalNegative) / Total no of records\n",
    "# (1397 + 45) / 1672 \n",
    "# 1442 / 1642 = 0.86"
   ]
  },
  {
   "cell_type": "code",
   "execution_count": 45,
   "metadata": {},
   "outputs": [
    {
     "name": "stdout",
     "output_type": "stream",
     "text": [
      "              precision    recall  f1-score   support\n",
      "\n",
      "         ham       0.86      0.97      0.91      1442\n",
      "        spam       0.04      0.01      0.01       230\n",
      "\n",
      "    accuracy                           0.84      1672\n",
      "   macro avg       0.45      0.49      0.46      1672\n",
      "weighted avg       0.75      0.84      0.79      1672\n",
      "\n"
     ]
    }
   ],
   "source": [
    "# Print a classification Report\n",
    "print(metrics.classification_report(y_test, lin_reg_model_predictions))"
   ]
  },
  {
   "cell_type": "code",
   "execution_count": 46,
   "metadata": {},
   "outputs": [
    {
     "name": "stdout",
     "output_type": "stream",
     "text": [
      "0.8367224880382775\n"
     ]
    }
   ],
   "source": [
    "# Print the overall accuracy\n",
    "print(metrics.accuracy_score(y_test, lin_reg_model_predictions))"
   ]
  },
  {
   "cell_type": "code",
   "execution_count": 47,
   "metadata": {},
   "outputs": [
    {
     "data": {
      "text/plain": [
       "MultinomialNB(alpha=1.0, class_prior=None, fit_prior=True)"
      ]
     },
     "execution_count": 47,
     "metadata": {},
     "output_type": "execute_result"
    }
   ],
   "source": [
    "# Step 1\n",
    "from sklearn.naive_bayes import MultinomialNB\n",
    "\n",
    "# Step 2\n",
    "nb_model = MultinomialNB()\n",
    "\n",
    "# Step 3 - fit the model to training data\n",
    "nb_model.fit(X_train, y_train)\n"
   ]
  },
  {
   "cell_type": "code",
   "execution_count": 48,
   "metadata": {},
   "outputs": [],
   "source": [
    "# Predict\n",
    "nb_model_predictions = nb_model.predict(X_test)"
   ]
  },
  {
   "cell_type": "code",
   "execution_count": 49,
   "metadata": {},
   "outputs": [
    {
     "name": "stdout",
     "output_type": "stream",
     "text": [
      "[[1442    0]\n",
      " [ 230    0]]\n"
     ]
    }
   ],
   "source": [
    "# Show metric in a confusion matrix\n",
    "print(metrics.confusion_matrix(y_test, nb_model_predictions))\n"
   ]
  },
  {
   "cell_type": "code",
   "execution_count": 50,
   "metadata": {},
   "outputs": [
    {
     "name": "stdout",
     "output_type": "stream",
     "text": [
      "              precision    recall  f1-score   support\n",
      "\n",
      "         ham       0.86      1.00      0.93      1442\n",
      "        spam       0.00      0.00      0.00       230\n",
      "\n",
      "    accuracy                           0.86      1672\n",
      "   macro avg       0.43      0.50      0.46      1672\n",
      "weighted avg       0.74      0.86      0.80      1672\n",
      "\n"
     ]
    },
    {
     "name": "stderr",
     "output_type": "stream",
     "text": [
      "C:\\Users\\ASAD\\Anaconda3\\envs\\AI2_course\\lib\\site-packages\\sklearn\\metrics\\_classification.py:1272: UndefinedMetricWarning: Precision and F-score are ill-defined and being set to 0.0 in labels with no predicted samples. Use `zero_division` parameter to control this behavior.\n",
      "  _warn_prf(average, modifier, msg_start, len(result))\n"
     ]
    }
   ],
   "source": [
    "# This can not predict spam, it only is useful for ham\n",
    "print(metrics.classification_report(y_test, nb_model_predictions))"
   ]
  },
  {
   "cell_type": "code",
   "execution_count": 51,
   "metadata": {},
   "outputs": [
    {
     "name": "stdout",
     "output_type": "stream",
     "text": [
      "0.8624401913875598\n"
     ]
    }
   ],
   "source": [
    "print(metrics.accuracy_score(y_test, nb_model_predictions))"
   ]
  },
  {
   "cell_type": "code",
   "execution_count": 52,
   "metadata": {},
   "outputs": [],
   "source": [
    "# Random Forest"
   ]
  },
  {
   "cell_type": "code",
   "execution_count": 53,
   "metadata": {},
   "outputs": [],
   "source": [
    "# step 1: import the model\n",
    "# step 2: create an instance of the model\n",
    "# step 3: build a model and fit the data\n",
    "# step 4: test accuracy"
   ]
  },
  {
   "cell_type": "code",
   "execution_count": 56,
   "metadata": {},
   "outputs": [
    {
     "data": {
      "text/plain": [
       "RandomForestClassifier(bootstrap=True, ccp_alpha=0.0, class_weight=None,\n",
       "                       criterion='gini', max_depth=None, max_features='auto',\n",
       "                       max_leaf_nodes=None, max_samples=None,\n",
       "                       min_impurity_decrease=0.0, min_impurity_split=None,\n",
       "                       min_samples_leaf=1, min_samples_split=2,\n",
       "                       min_weight_fraction_leaf=0.0, n_estimators=100,\n",
       "                       n_jobs=None, oob_score=False, random_state=None,\n",
       "                       verbose=0, warm_start=False)"
      ]
     },
     "execution_count": 56,
     "metadata": {},
     "output_type": "execute_result"
    }
   ],
   "source": [
    "# Step 1\n",
    "from sklearn.ensemble import RandomForestClassifier\n",
    "\n",
    "# Step 2\n",
    "rf_model = RandomForestClassifier()\n",
    "\n",
    "# Step 3\n",
    "rf_model.fit(X_train,y_train)"
   ]
  },
  {
   "cell_type": "code",
   "execution_count": 57,
   "metadata": {},
   "outputs": [],
   "source": [
    "# Predict answers to data from the X_test data\n",
    "# contains text length and punctuation count\n",
    "\n",
    "rf_model_predictions = rf_model.predict(X_test)"
   ]
  },
  {
   "cell_type": "code",
   "execution_count": 58,
   "metadata": {},
   "outputs": [
    {
     "data": {
      "text/plain": [
       "array(['ham', 'ham', 'ham', ..., 'ham', 'ham', 'ham'], dtype=object)"
      ]
     },
     "execution_count": 58,
     "metadata": {},
     "output_type": "execute_result"
    }
   ],
   "source": [
    "rf_model_predictions"
   ]
  },
  {
   "cell_type": "code",
   "execution_count": 59,
   "metadata": {},
   "outputs": [
    {
     "name": "stdout",
     "output_type": "stream",
     "text": [
      "[[1362   80]\n",
      " [ 115  115]]\n"
     ]
    }
   ],
   "source": [
    "print(metrics.confusion_matrix(y_test, rf_model_predictions))"
   ]
  },
  {
   "cell_type": "code",
   "execution_count": 60,
   "metadata": {},
   "outputs": [
    {
     "name": "stdout",
     "output_type": "stream",
     "text": [
      "              precision    recall  f1-score   support\n",
      "\n",
      "         ham       0.92      0.94      0.93      1442\n",
      "        spam       0.59      0.50      0.54       230\n",
      "\n",
      "    accuracy                           0.88      1672\n",
      "   macro avg       0.76      0.72      0.74      1672\n",
      "weighted avg       0.88      0.88      0.88      1672\n",
      "\n"
     ]
    }
   ],
   "source": [
    "print(metrics.classification_report(y_test, rf_model_predictions))"
   ]
  },
  {
   "cell_type": "code",
   "execution_count": 61,
   "metadata": {},
   "outputs": [
    {
     "name": "stdout",
     "output_type": "stream",
     "text": [
      "0.8833732057416268\n"
     ]
    }
   ],
   "source": [
    "print(metrics.accuracy_score(y_test, rf_model_predictions))"
   ]
  },
  {
   "cell_type": "code",
   "execution_count": 62,
   "metadata": {},
   "outputs": [],
   "source": [
    "# Overall accuracy of the model suggests that it is better than \n",
    "# logistic regression(0.84) and Naive Bayes(0.86)"
   ]
  },
  {
   "cell_type": "code",
   "execution_count": 63,
   "metadata": {},
   "outputs": [],
   "source": [
    "# Support Vector Classifier"
   ]
  },
  {
   "cell_type": "code",
   "execution_count": 64,
   "metadata": {},
   "outputs": [],
   "source": [
    "# Step 1\n",
    "from sklearn.svm import SVC"
   ]
  },
  {
   "cell_type": "code",
   "execution_count": 67,
   "metadata": {},
   "outputs": [],
   "source": [
    "# Step 2\n",
    "svc_model = SVC(gamma = \"auto\")"
   ]
  },
  {
   "cell_type": "code",
   "execution_count": 68,
   "metadata": {},
   "outputs": [
    {
     "data": {
      "text/plain": [
       "SVC(C=1.0, break_ties=False, cache_size=200, class_weight=None, coef0=0.0,\n",
       "    decision_function_shape='ovr', degree=3, gamma='auto', kernel='rbf',\n",
       "    max_iter=-1, probability=False, random_state=None, shrinking=True,\n",
       "    tol=0.001, verbose=False)"
      ]
     },
     "execution_count": 68,
     "metadata": {},
     "output_type": "execute_result"
    }
   ],
   "source": [
    "# Step 3\n",
    "svc_model.fit(X_train, y_train)"
   ]
  },
  {
   "cell_type": "code",
   "execution_count": 71,
   "metadata": {},
   "outputs": [
    {
     "name": "stdout",
     "output_type": "stream",
     "text": [
      "[[1363   79]\n",
      " [ 108  122]]\n"
     ]
    }
   ],
   "source": [
    "# Predictions\n",
    "svc_model_predictions = svc_model.predict(X_test)\n",
    "\n",
    "print(metrics.confusion_matrix(y_test, svc_model_predictions))"
   ]
  },
  {
   "cell_type": "code",
   "execution_count": 74,
   "metadata": {},
   "outputs": [],
   "source": [
    "# Overall confusion is (108 + 79) = 187. This is better than Naive Bayes model (234) and Logistic Regression Classifier(271)"
   ]
  },
  {
   "cell_type": "code",
   "execution_count": 72,
   "metadata": {},
   "outputs": [
    {
     "name": "stdout",
     "output_type": "stream",
     "text": [
      "              precision    recall  f1-score   support\n",
      "\n",
      "         ham       0.93      0.95      0.94      1442\n",
      "        spam       0.61      0.53      0.57       230\n",
      "\n",
      "    accuracy                           0.89      1672\n",
      "   macro avg       0.77      0.74      0.75      1672\n",
      "weighted avg       0.88      0.89      0.88      1672\n",
      "\n"
     ]
    }
   ],
   "source": [
    "print(metrics.classification_report(y_test, svc_model_predictions))"
   ]
  },
  {
   "cell_type": "code",
   "execution_count": 73,
   "metadata": {},
   "outputs": [
    {
     "name": "stdout",
     "output_type": "stream",
     "text": [
      "0.8881578947368421\n"
     ]
    }
   ],
   "source": [
    "print(metrics.accuracy_score(y_test, svc_model_predictions))"
   ]
  },
  {
   "cell_type": "code",
   "execution_count": 75,
   "metadata": {},
   "outputs": [],
   "source": [
    "# Accuracy Summary\n",
    "\n",
    "# Logistic Regression: 83.67\n",
    "# Random Forest: 88.33\n",
    "# Naive Bayes: 86.24\n",
    "# Support Vector Classifier: 88.81"
   ]
  },
  {
   "cell_type": "code",
   "execution_count": null,
   "metadata": {},
   "outputs": [],
   "source": []
  }
 ],
 "metadata": {
  "kernelspec": {
   "display_name": "Python 3",
   "language": "python",
   "name": "python3"
  },
  "language_info": {
   "codemirror_mode": {
    "name": "ipython",
    "version": 3
   },
   "file_extension": ".py",
   "mimetype": "text/x-python",
   "name": "python",
   "nbconvert_exporter": "python",
   "pygments_lexer": "ipython3",
   "version": "3.8.2"
  }
 },
 "nbformat": 4,
 "nbformat_minor": 4
}
